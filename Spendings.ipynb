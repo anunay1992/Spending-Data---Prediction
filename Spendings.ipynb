{
 "cells": [
  {
   "cell_type": "markdown",
   "metadata": {},
   "source": [
    "# Importing libraries"
   ]
  },
  {
   "cell_type": "code",
   "execution_count": 1,
   "metadata": {
    "scrolled": true
   },
   "outputs": [
    {
     "name": "stderr",
     "output_type": "stream",
     "text": [
      "Using TensorFlow backend.\n"
     ]
    }
   ],
   "source": [
    "import os\n",
    "from sklearn.tree import DecisionTreeRegressor \n",
    "from sklearn.linear_model import LinearRegression, Lasso, Ridge\n",
    "from sklearn.neighbors import KNeighborsRegressor\n",
    "from sklearn.ensemble import RandomForestRegressor,AdaBoostRegressor, GradientBoostingRegressor\n",
    "from keras.models import Sequential\n",
    "from keras.layers.core import Dense, Activation\n",
    "from keras.optimizers import SGD\n",
    "from keras.utils import np_utils\n",
    "from keras.callbacks import EarlyStopping\n",
    "from math import sqrt\n",
    "from sklearn.model_selection import cross_val_score, train_test_split, KFold, GridSearchCV, RandomizedSearchCV\n",
    "from sklearn.metrics import roc_curve, auc, mean_squared_error\n",
    "from sklearn.preprocessing import Normalizer,MinMaxScaler\n",
    "from sklearn.naive_bayes import MultinomialNB, GaussianNB\n",
    "from xgboost import XGBRegressor, plot_importance \n",
    "import scikitplot as skplt\n",
    "import matplotlib.pyplot as plt\n",
    "import seaborn as sns\n",
    "import numpy as np\n",
    "import pandas as pd\n",
    "import matplotlib.pyplot as plt\n",
    "import warnings\n",
    "warnings.filterwarnings(\"ignore\")"
   ]
  },
  {
   "cell_type": "markdown",
   "metadata": {},
   "source": [
    "# Spending data"
   ]
  },
  {
   "cell_type": "code",
   "execution_count": 2,
   "metadata": {},
   "outputs": [],
   "source": [
    "data = pd.read_excel('data.xlsx')"
   ]
  },
  {
   "cell_type": "code",
   "execution_count": 3,
   "metadata": {},
   "outputs": [
    {
     "data": {
      "text/html": [
       "<div>\n",
       "<style scoped>\n",
       "    .dataframe tbody tr th:only-of-type {\n",
       "        vertical-align: middle;\n",
       "    }\n",
       "\n",
       "    .dataframe tbody tr th {\n",
       "        vertical-align: top;\n",
       "    }\n",
       "\n",
       "    .dataframe thead th {\n",
       "        text-align: right;\n",
       "    }\n",
       "</style>\n",
       "<table border=\"1\" class=\"dataframe\">\n",
       "  <thead>\n",
       "    <tr style=\"text-align: right;\">\n",
       "      <th></th>\n",
       "      <th>sequence_number</th>\n",
       "      <th>US</th>\n",
       "      <th>source_a</th>\n",
       "      <th>source_c</th>\n",
       "      <th>source_b</th>\n",
       "      <th>source_d</th>\n",
       "      <th>source_e</th>\n",
       "      <th>source_m</th>\n",
       "      <th>source_o</th>\n",
       "      <th>source_h</th>\n",
       "      <th>...</th>\n",
       "      <th>source_x</th>\n",
       "      <th>source_w</th>\n",
       "      <th>Freq</th>\n",
       "      <th>last_update_days_ago</th>\n",
       "      <th>1st_update_days_ago</th>\n",
       "      <th>Web order</th>\n",
       "      <th>Gender=male</th>\n",
       "      <th>Address_is_res</th>\n",
       "      <th>Purchase</th>\n",
       "      <th>Spending</th>\n",
       "    </tr>\n",
       "  </thead>\n",
       "  <tbody>\n",
       "    <tr>\n",
       "      <td>0</td>\n",
       "      <td>1</td>\n",
       "      <td>1</td>\n",
       "      <td>0</td>\n",
       "      <td>0</td>\n",
       "      <td>1</td>\n",
       "      <td>0</td>\n",
       "      <td>0</td>\n",
       "      <td>0</td>\n",
       "      <td>0</td>\n",
       "      <td>0</td>\n",
       "      <td>...</td>\n",
       "      <td>0</td>\n",
       "      <td>0</td>\n",
       "      <td>2</td>\n",
       "      <td>3662</td>\n",
       "      <td>3662</td>\n",
       "      <td>1</td>\n",
       "      <td>0</td>\n",
       "      <td>1</td>\n",
       "      <td>1</td>\n",
       "      <td>127.87</td>\n",
       "    </tr>\n",
       "    <tr>\n",
       "      <td>1</td>\n",
       "      <td>2</td>\n",
       "      <td>1</td>\n",
       "      <td>0</td>\n",
       "      <td>0</td>\n",
       "      <td>0</td>\n",
       "      <td>0</td>\n",
       "      <td>1</td>\n",
       "      <td>0</td>\n",
       "      <td>0</td>\n",
       "      <td>0</td>\n",
       "      <td>...</td>\n",
       "      <td>0</td>\n",
       "      <td>0</td>\n",
       "      <td>0</td>\n",
       "      <td>2900</td>\n",
       "      <td>2900</td>\n",
       "      <td>1</td>\n",
       "      <td>1</td>\n",
       "      <td>0</td>\n",
       "      <td>0</td>\n",
       "      <td>0.00</td>\n",
       "    </tr>\n",
       "    <tr>\n",
       "      <td>2</td>\n",
       "      <td>3</td>\n",
       "      <td>1</td>\n",
       "      <td>0</td>\n",
       "      <td>0</td>\n",
       "      <td>0</td>\n",
       "      <td>0</td>\n",
       "      <td>0</td>\n",
       "      <td>0</td>\n",
       "      <td>0</td>\n",
       "      <td>0</td>\n",
       "      <td>...</td>\n",
       "      <td>0</td>\n",
       "      <td>0</td>\n",
       "      <td>2</td>\n",
       "      <td>3883</td>\n",
       "      <td>3914</td>\n",
       "      <td>0</td>\n",
       "      <td>0</td>\n",
       "      <td>0</td>\n",
       "      <td>1</td>\n",
       "      <td>127.48</td>\n",
       "    </tr>\n",
       "    <tr>\n",
       "      <td>3</td>\n",
       "      <td>4</td>\n",
       "      <td>1</td>\n",
       "      <td>0</td>\n",
       "      <td>1</td>\n",
       "      <td>0</td>\n",
       "      <td>0</td>\n",
       "      <td>0</td>\n",
       "      <td>0</td>\n",
       "      <td>0</td>\n",
       "      <td>0</td>\n",
       "      <td>...</td>\n",
       "      <td>0</td>\n",
       "      <td>0</td>\n",
       "      <td>1</td>\n",
       "      <td>829</td>\n",
       "      <td>829</td>\n",
       "      <td>0</td>\n",
       "      <td>1</td>\n",
       "      <td>0</td>\n",
       "      <td>0</td>\n",
       "      <td>0.00</td>\n",
       "    </tr>\n",
       "    <tr>\n",
       "      <td>4</td>\n",
       "      <td>5</td>\n",
       "      <td>1</td>\n",
       "      <td>0</td>\n",
       "      <td>1</td>\n",
       "      <td>0</td>\n",
       "      <td>0</td>\n",
       "      <td>0</td>\n",
       "      <td>0</td>\n",
       "      <td>0</td>\n",
       "      <td>0</td>\n",
       "      <td>...</td>\n",
       "      <td>0</td>\n",
       "      <td>0</td>\n",
       "      <td>1</td>\n",
       "      <td>869</td>\n",
       "      <td>869</td>\n",
       "      <td>0</td>\n",
       "      <td>0</td>\n",
       "      <td>0</td>\n",
       "      <td>0</td>\n",
       "      <td>0.00</td>\n",
       "    </tr>\n",
       "  </tbody>\n",
       "</table>\n",
       "<p>5 rows × 25 columns</p>\n",
       "</div>"
      ],
      "text/plain": [
       "   sequence_number  US  source_a  source_c  source_b  source_d  source_e  \\\n",
       "0                1   1         0         0         1         0         0   \n",
       "1                2   1         0         0         0         0         1   \n",
       "2                3   1         0         0         0         0         0   \n",
       "3                4   1         0         1         0         0         0   \n",
       "4                5   1         0         1         0         0         0   \n",
       "\n",
       "   source_m  source_o  source_h  ...  source_x  source_w  Freq  \\\n",
       "0         0         0         0  ...         0         0     2   \n",
       "1         0         0         0  ...         0         0     0   \n",
       "2         0         0         0  ...         0         0     2   \n",
       "3         0         0         0  ...         0         0     1   \n",
       "4         0         0         0  ...         0         0     1   \n",
       "\n",
       "   last_update_days_ago  1st_update_days_ago  Web order  Gender=male  \\\n",
       "0                  3662                 3662          1            0   \n",
       "1                  2900                 2900          1            1   \n",
       "2                  3883                 3914          0            0   \n",
       "3                   829                  829          0            1   \n",
       "4                   869                  869          0            0   \n",
       "\n",
       "   Address_is_res  Purchase  Spending  \n",
       "0               1         1    127.87  \n",
       "1               0         0      0.00  \n",
       "2               0         1    127.48  \n",
       "3               0         0      0.00  \n",
       "4               0         0      0.00  \n",
       "\n",
       "[5 rows x 25 columns]"
      ]
     },
     "execution_count": 3,
     "metadata": {},
     "output_type": "execute_result"
    }
   ],
   "source": [
    "data.head()"
   ]
  },
  {
   "attachments": {
    "image.png": {
     "image/png": "[encoded data removed]"
    }
   },
   "cell_type": "markdown",
   "metadata": {},
   "source": [
    "# Data Description\n",
    "![image.png](attachment:image.png)"
   ]
  },
  {
   "cell_type": "markdown",
   "metadata": {},
   "source": [
    "# Segmenting target and predictor data"
   ]
  },
  {
   "cell_type": "code",
   "execution_count": 4,
   "metadata": {},
   "outputs": [],
   "source": [
    "X = data.drop(['sequence_number', 'Spending', 'Purchase'], axis=1)\n",
    "Y = data[['Spending']]\n",
    "# Log transformation\n",
    "Y = np.log(Y + 1)"
   ]
  },
  {
   "cell_type": "markdown",
   "metadata": {},
   "source": [
    "# Spliting target and predictor data into training and testing"
   ]
  },
  {
   "cell_type": "code",
   "execution_count": 48,
   "metadata": {},
   "outputs": [],
   "source": [
    "from sklearn.model_selection import train_test_split\n",
    "X_train, X_test, Y_train, Y_test = train_test_split(X, Y, test_size = 0.20)"
   ]
  },
  {
   "cell_type": "markdown",
   "metadata": {},
   "source": [
    "# Scaling the data using MinMaxScaler"
   ]
  },
  {
   "cell_type": "code",
   "execution_count": 49,
   "metadata": {},
   "outputs": [],
   "source": [
    "from sklearn.preprocessing import MinMaxScaler\n",
    "scaler = MinMaxScaler()\n",
    "scaler.fit(X_train)\n",
    "X_train_scaled = scaler.transform(X_train)\n",
    "X_test_scaled = scaler.transform(X_test)"
   ]
  },
  {
   "cell_type": "markdown",
   "metadata": {},
   "source": [
    "# Linear Regression"
   ]
  },
  {
   "cell_type": "code",
   "execution_count": 50,
   "metadata": {},
   "outputs": [],
   "source": [
    "clf = LinearRegression()\n",
    "clf.fit(X_train, Y_train)\n",
    "yPrediction = clf.predict(X_test)"
   ]
  },
  {
   "cell_type": "markdown",
   "metadata": {},
   "source": [
    "## The coefficients of all the features "
   ]
  },
  {
   "cell_type": "code",
   "execution_count": 51,
   "metadata": {},
   "outputs": [
    {
     "name": "stdout",
     "output_type": "stream",
     "text": [
      "The coefficient for US is 0.1209117173916412\n",
      "The coefficient for source_a is 1.8164201850155903\n",
      "The coefficient for source_c is 0.25502661013131905\n",
      "The coefficient for source_b is 0.3212727994714858\n",
      "The coefficient for source_d is 1.0212617496514933\n",
      "The coefficient for source_e is 0.6903667679199413\n",
      "The coefficient for source_m is 1.4018142105762812\n",
      "The coefficient for source_o is 0.07607977389534328\n",
      "The coefficient for source_h is -1.6483358648322917\n",
      "The coefficient for source_r is 0.950417340640591\n",
      "The coefficient for source_s is 0.4309793143359623\n",
      "The coefficient for source_t is 1.1558503197898247\n",
      "The coefficient for source_u is 1.7318219377444186\n",
      "The coefficient for source_p is 1.8419677046460436\n",
      "The coefficient for source_x is 0.5278475584993365\n",
      "The coefficient for source_w is 1.1304018749541822\n",
      "The coefficient for Freq is 0.9323839852445075\n",
      "The coefficient for last_update_days_ago is -8.326982035580074e-05\n",
      "The coefficient for 1st_update_days_ago is -1.446994212408865e-05\n",
      "The coefficient for Web order is 0.7693670400858986\n",
      "The coefficient for Gender=male is -0.0698108164919066\n",
      "The coefficient for Address_is_res is -0.1402375530014577\n"
     ]
    }
   ],
   "source": [
    "for idx, col_name in enumerate(X_train.columns):\n",
    "    print(\"The coefficient for {} is {}\".format(col_name, clf.coef_[0][idx]))"
   ]
  },
  {
   "cell_type": "markdown",
   "metadata": {},
   "source": [
    "## Intercept of the model"
   ]
  },
  {
   "cell_type": "code",
   "execution_count": 52,
   "metadata": {},
   "outputs": [
    {
     "name": "stdout",
     "output_type": "stream",
     "text": [
      "The intercept for our model is 0.21118711321540395\n"
     ]
    }
   ],
   "source": [
    "intercept = clf.intercept_[0]\n",
    "print(\"The intercept for our model is {}\".format(intercept))"
   ]
  },
  {
   "cell_type": "markdown",
   "metadata": {},
   "source": [
    "## Evalutation of the model"
   ]
  },
  {
   "cell_type": "code",
   "execution_count": 53,
   "metadata": {},
   "outputs": [
    {
     "name": "stdout",
     "output_type": "stream",
     "text": [
      "[0.41248353 0.41454365 0.46889268 0.44553386 0.36226606 0.46657799\n",
      " 0.40869291]\n",
      "Mean R^2 Score: 0.43 (+/- 0.07)\n",
      "The R^2 for our model is 0.3985403169285193\n",
      "The MSE for our model is 3.856577180998952\n",
      "The RMSE for our model is 1.963816992746257\n"
     ]
    }
   ],
   "source": [
    "from sklearn.metrics import mean_squared_error\n",
    "y_predict = clf.predict(X_test)\n",
    "clf_mse = mean_squared_error(y_predict, Y_test)\n",
    "sqrt(clf_mse)\n",
    "clf.score(X_test, Y_test)\n",
    "scores = cross_val_score(clf, X_train, Y_train, cv=7,scoring='r2')\n",
    "print(scores)\n",
    "print(\"Mean R^2 Score: %0.2f (+/- %0.2f)\" % (scores.mean(), scores.std() * 2))\n",
    "print(\"The R^2 for our model is {}\".format(clf.score(X_test, Y_test)))\n",
    "print(\"The MSE for our model is {}\".format(clf_mse))\n",
    "print(\"The RMSE for our model is {}\".format(sqrt(clf_mse)))"
   ]
  },
  {
   "cell_type": "markdown",
   "metadata": {},
   "source": [
    "# KNN"
   ]
  },
  {
   "cell_type": "code",
   "execution_count": 54,
   "metadata": {},
   "outputs": [
    {
     "name": "stdout",
     "output_type": "stream",
     "text": [
      "Best Hyperparamters: {'algorithm': 'brute', 'n_neighbors': 25, 'weights': 'uniform'}\n",
      "Best R^2: 0.2708696111686738\n"
     ]
    }
   ],
   "source": [
    "clf = KNeighborsRegressor()\n",
    "p_grid = {'weights':[\"uniform\", \"distance\"], 'n_neighbors' : list(range(1,31)),\n",
    "          'algorithm' : ['auto', 'ball_tree', 'kd_tree', 'brute']}\n",
    "grid = GridSearchCV(estimator = clf, param_grid = p_grid, cv = 10, n_jobs = -1, scoring = 'r2')\n",
    "grid.fit(X_train_scaled, Y_train)\n",
    "finalparam = grid.best_params_\n",
    "print('Best Hyperparamters:', grid.best_params_ )\n",
    "print('Best R^2:', grid.best_score_)"
   ]
  },
  {
   "cell_type": "markdown",
   "metadata": {},
   "source": [
    "## Evalutation of the model"
   ]
  },
  {
   "cell_type": "code",
   "execution_count": 55,
   "metadata": {},
   "outputs": [
    {
     "name": "stdout",
     "output_type": "stream",
     "text": [
      "[0.18966779 0.26334833 0.25713692 0.30688238 0.29054792 0.35507734\n",
      " 0.2174848  0.29359196 0.27618177 0.2587769 ]\n",
      "Mean R^2 Score: 0.27 (+/- 0.09)\n",
      "The R^2 for our model is 0.20334418980795677\n",
      "The MSE for our model is 5.108180490182132\n",
      "RMSE value for k = 25 is: 2.2601284233826475\n"
     ]
    }
   ],
   "source": [
    "clf_KNN = KNeighborsRegressor(n_neighbors= finalparam['n_neighbors'],\n",
    "                              weights= finalparam['weights'], algorithm =finalparam['algorithm'])\n",
    "clf_KNN.fit(X_train_scaled, Y_train)\n",
    "pred=clf_KNN.predict(X_test_scaled)\n",
    "error = sqrt(mean_squared_error(Y_test,pred))\n",
    "scores = cross_val_score(clf_KNN, X_train_scaled, Y_train, cv=10,scoring='r2')\n",
    "print(scores)\n",
    "print(\"Mean R^2 Score: %0.2f (+/- %0.2f)\" % (scores.mean(), scores.std() * 2))\n",
    "print(\"The R^2 for our model is {}\".format(clf_KNN.score(X_test_scaled, Y_test)))\n",
    "print(\"The MSE for our model is {}\".format(mean_squared_error(Y_test,pred)))\n",
    "print('RMSE value for k =' , finalparam['n_neighbors'] , 'is:', error)"
   ]
  },
  {
   "cell_type": "markdown",
   "metadata": {},
   "source": [
    "# Regression Tree"
   ]
  },
  {
   "cell_type": "code",
   "execution_count": 56,
   "metadata": {},
   "outputs": [
    {
     "name": "stdout",
     "output_type": "stream",
     "text": [
      "Best Hyperparamters: {'criterion': 'mse', 'max_depth': 11, 'min_samples_leaf': 25}\n",
      "Best R^2: 0.5304341831471913\n"
     ]
    }
   ],
   "source": [
    "clf = DecisionTreeRegressor()\n",
    "p_grid = {\"max_depth\": list(range(1,30)), \"criterion\" : ['mse'], 'min_samples_leaf' : list(range(1,30))}\n",
    "grid = GridSearchCV(estimator = clf, param_grid = p_grid, cv = 10, n_jobs = -1, scoring = 'r2')\n",
    "grid.fit(X_train, Y_train)\n",
    "finalparam = grid.best_params_\n",
    "print('Best Hyperparamters:', grid.best_params_ )\n",
    "print('Best R^2:', grid.best_score_)"
   ]
  },
  {
   "cell_type": "markdown",
   "metadata": {},
   "source": [
    "## Evalutation of the model"
   ]
  },
  {
   "cell_type": "code",
   "execution_count": 57,
   "metadata": {},
   "outputs": [
    {
     "name": "stdout",
     "output_type": "stream",
     "text": [
      "[0.54243994 0.61476188 0.46122361 0.62290884 0.49739337 0.50342182\n",
      " 0.42697415 0.46877112 0.5953032  0.57117008]\n",
      "Mean R^2 Score: 0.53 (+/- 0.13)\n",
      "The R^2 for our model is 0.4785771072098259\n",
      "The MSE for our model is 3.343378927272273\n",
      "RMSE value is: 1.8284908879379937\n"
     ]
    }
   ],
   "source": [
    "clf_RT = DecisionTreeRegressor(max_depth= finalparam['max_depth'], criterion= finalparam['criterion'],\n",
    "                               min_samples_leaf =finalparam['min_samples_leaf'])\n",
    "clf_RT.fit(X_train, Y_train)\n",
    "pred=clf_RT.predict(X_test)\n",
    "error = sqrt(mean_squared_error(Y_test,pred))\n",
    "scores = cross_val_score(clf_RT, X_train, Y_train, cv=10,scoring='r2')\n",
    "print(scores)\n",
    "print(\"Mean R^2 Score: %0.2f (+/- %0.2f)\" % (scores.mean(), scores.std() * 2))\n",
    "print(\"The R^2 for our model is {}\".format(clf_RT.score(X_test, Y_test)))\n",
    "print(\"The MSE for our model is {}\".format(mean_squared_error(Y_test,pred)))\n",
    "print('RMSE value is:', error)"
   ]
  },
  {
   "cell_type": "markdown",
   "metadata": {},
   "source": [
    "# SVM Regression"
   ]
  },
  {
   "cell_type": "code",
   "execution_count": 58,
   "metadata": {},
   "outputs": [
    {
     "name": "stdout",
     "output_type": "stream",
     "text": [
      "Best Hyperparamters: {'C': 100, 'degree': 3, 'gamma': 'auto', 'kernel': 'rbf'}\n",
      "Best R^2: 0.4143025962249809\n"
     ]
    }
   ],
   "source": [
    "clf = SVR()\n",
    "p_grid = {'kernel':['linear', 'poly', 'rbf', 'sigmoid' ], 'C' : [0.001,0.1,1,10,100],\n",
    "          'degree': list(range(3,8)), 'gamma': ['auto', 'scale']}\n",
    "grid = GridSearchCV(estimator = clf, param_grid = p_grid, cv = 10, n_jobs = -1)\n",
    "grid.fit(X_train_scaled, Y_train)\n",
    "finalparam = grid.best_params_\n",
    "print('Best Hyperparamters:', grid.best_params_ )\n",
    "print('Best R^2:', grid.best_score_)"
   ]
  },
  {
   "cell_type": "markdown",
   "metadata": {},
   "source": [
    "## Evalutation of the model"
   ]
  },
  {
   "cell_type": "code",
   "execution_count": 59,
   "metadata": {},
   "outputs": [
    {
     "name": "stdout",
     "output_type": "stream",
     "text": [
      "[0.32364918 0.49900151 0.34975345 0.52960539 0.37790008 0.46995236\n",
      " 0.35253514 0.39811911 0.45406893 0.3884408 ]\n",
      "Mean R^2 Score: 0.41 (+/- 0.13)\n",
      "The R^2 for our model is 0.44401544789981806\n",
      "The MSE for our model is 3.5649893034686695\n",
      "RMSE value is: 1.8881179262611405\n"
     ]
    }
   ],
   "source": [
    "clf_SVR = SVR(kernel= finalparam['kernel'], C = finalparam['C'], degree = finalparam['degree'],\n",
    "                   gamma = finalparam['gamma'])\n",
    "clf_SVR.fit(X_train_scaled, Y_train)\n",
    "pred=clf_SVR.predict(X_test_scaled)\n",
    "error = sqrt(mean_squared_error(Y_test,pred))\n",
    "scores = cross_val_score(clf_SVR, X_train_scaled, Y_train, cv= 10,scoring='r2')\n",
    "print(scores)\n",
    "print(\"Mean R^2 Score: %0.2f (+/- %0.2f)\" % (scores.mean(), scores.std() * 2))\n",
    "print(\"The R^2 for our model is {}\".format(clf_SVR.score(X_test_scaled, Y_test)))\n",
    "print(\"The MSE for our model is {}\".format(mean_squared_error(Y_test,pred)))\n",
    "print('RMSE value is:', error)"
   ]
  },
  {
   "cell_type": "markdown",
   "metadata": {},
   "source": [
    "# Lasso"
   ]
  },
  {
   "cell_type": "code",
   "execution_count": 60,
   "metadata": {},
   "outputs": [],
   "source": [
    "clf = Lasso(alpha=1.0, fit_intercept=True, normalize=False, precompute=False, copy_X=True,\n",
    "            max_iter=1000, tol=0.0001, warm_start=False, positive=False, random_state=None, selection='cyclic')\n",
    "clf.fit(X_train, Y_train)\n",
    "yPrediction = clf.predict(X_test)"
   ]
  },
  {
   "cell_type": "markdown",
   "metadata": {},
   "source": [
    "## The coeficients of all the features "
   ]
  },
  {
   "cell_type": "code",
   "execution_count": 61,
   "metadata": {},
   "outputs": [
    {
     "name": "stdout",
     "output_type": "stream",
     "text": [
      "The coefficient for US is 0.0\n",
      "The coefficient for source_a is 0.0\n",
      "The coefficient for source_c is -0.0\n",
      "The coefficient for source_b is -0.0\n",
      "The coefficient for source_d is 0.0\n",
      "The coefficient for source_e is -0.0\n",
      "The coefficient for source_m is 0.0\n",
      "The coefficient for source_o is -0.0\n",
      "The coefficient for source_h is -0.0\n",
      "The coefficient for source_r is 0.0\n",
      "The coefficient for source_s is -0.0\n",
      "The coefficient for source_t is 0.0\n",
      "The coefficient for source_u is 0.0\n",
      "The coefficient for source_p is 0.0\n",
      "The coefficient for source_x is -0.0\n",
      "The coefficient for source_w is 0.0\n",
      "The coefficient for Freq is 0.013975923583872426\n",
      "The coefficient for last_update_days_ago is -0.0014643087694839944\n",
      "The coefficient for 1st_update_days_ago is 0.001352608516062533\n",
      "The coefficient for Web order is 0.0\n",
      "The coefficient for Gender=male is -0.0\n",
      "The coefficient for Address_is_res is -0.0\n"
     ]
    }
   ],
   "source": [
    "for idx, col_name in enumerate(X_train.columns):\n",
    "    print(\"The coefficient for {} is {}\".format(col_name, clf.coef_[idx]))"
   ]
  },
  {
   "cell_type": "markdown",
   "metadata": {},
   "source": [
    "## Intercept of the model"
   ]
  },
  {
   "cell_type": "code",
   "execution_count": 62,
   "metadata": {},
   "outputs": [
    {
     "name": "stdout",
     "output_type": "stream",
     "text": [
      "The intercept for our model is 2.364759363776967\n"
     ]
    }
   ],
   "source": [
    "intercept = clf.intercept_[0]\n",
    "print(\"The intercept for our model is {}\".format(intercept))"
   ]
  },
  {
   "cell_type": "markdown",
   "metadata": {},
   "source": [
    "## Evaluation of the model"
   ]
  },
  {
   "cell_type": "code",
   "execution_count": 63,
   "metadata": {},
   "outputs": [
    {
     "name": "stdout",
     "output_type": "stream",
     "text": [
      "[0.01320924 0.14280771 0.13419051 0.19764897 0.11217497 0.2029983\n",
      " 0.18283428 0.17214051 0.14855585 0.22689272]\n",
      "Mean R^2 Score: 0.15 (+/- 0.11)\n",
      "The R^2 for our model is 0.18503782785387557\n",
      "The MSE for our model is 5.225561421550107\n",
      "The RMSE for our model is 2.285948691801744\n"
     ]
    }
   ],
   "source": [
    "from sklearn.metrics import mean_squared_error\n",
    "y_predict = clf.predict(X_test)\n",
    "clf_mse = mean_squared_error(y_predict, Y_test)\n",
    "sqrt(clf_mse)\n",
    "clf.score(X_test, Y_test)\n",
    "scores = cross_val_score(clf, X_train, Y_train, cv=10,scoring='r2')\n",
    "print(scores)\n",
    "print(\"Mean R^2 Score: %0.2f (+/- %0.2f)\" % (scores.mean(), scores.std() * 2))\n",
    "print(\"The R^2 for our model is {}\".format(clf.score(X_test, Y_test)))\n",
    "print(\"The MSE for our model is {}\".format(clf_mse))\n",
    "print(\"The RMSE for our model is {}\".format(sqrt(clf_mse)))"
   ]
  },
  {
   "cell_type": "markdown",
   "metadata": {},
   "source": [
    "# Ridge"
   ]
  },
  {
   "cell_type": "code",
   "execution_count": 64,
   "metadata": {},
   "outputs": [],
   "source": [
    "clf = Ridge(alpha=1.0, fit_intercept=True, normalize=False, copy_X=True, max_iter=None,\n",
    "            tol=0.001, solver='auto', random_state=None)\n",
    "clf.fit(X_train, Y_train)\n",
    "yPrediction = clf.predict(X_test)"
   ]
  },
  {
   "cell_type": "markdown",
   "metadata": {},
   "source": [
    "## The coeficients of all the features"
   ]
  },
  {
   "cell_type": "code",
   "execution_count": 65,
   "metadata": {},
   "outputs": [
    {
     "name": "stdout",
     "output_type": "stream",
     "text": [
      "The coefficient for US is 0.12332367839376611\n",
      "The coefficient for source_a is 1.6708673521060111\n",
      "The coefficient for source_c is 0.1174646800857079\n",
      "The coefficient for source_b is 0.18483466930593725\n",
      "The coefficient for source_d is 0.8696518721983908\n",
      "The coefficient for source_e is 0.5528248423309198\n",
      "The coefficient for source_m is 1.2159272148194449\n",
      "The coefficient for source_o is -0.05353538680987461\n",
      "The coefficient for source_h is -1.7647596198123152\n",
      "The coefficient for source_r is 0.8075615038314967\n",
      "The coefficient for source_s is 0.29318350254625486\n",
      "The coefficient for source_t is 0.9881318135457113\n",
      "The coefficient for source_u is 1.5870916580046903\n",
      "The coefficient for source_p is 1.5132588347175153\n",
      "The coefficient for source_x is 0.37619023999455026\n",
      "The coefficient for source_w is 0.9906037900315195\n",
      "The coefficient for Freq is 0.9370880199135779\n",
      "The coefficient for last_update_days_ago is -7.89662024056106e-05\n",
      "The coefficient for 1st_update_days_ago is -1.8601809132703022e-05\n",
      "The coefficient for Web order is 0.7724840695436385\n",
      "The coefficient for Gender=male is -0.06921256178327767\n",
      "The coefficient for Address_is_res is -0.14327207120428914\n"
     ]
    }
   ],
   "source": [
    "for idx, col_name in enumerate(X_train.columns):\n",
    "    print(\"The coefficient for {} is {}\".format(col_name, clf.coef_[0][idx]))"
   ]
  },
  {
   "cell_type": "markdown",
   "metadata": {},
   "source": [
    "## Intercept of the model"
   ]
  },
  {
   "cell_type": "code",
   "execution_count": 66,
   "metadata": {},
   "outputs": [
    {
     "name": "stdout",
     "output_type": "stream",
     "text": [
      "The intercept for our model is 0.3379745810603061\n"
     ]
    }
   ],
   "source": [
    "intercept = clf.intercept_[0]\n",
    "print(\"The intercept for our model is {}\".format(intercept))"
   ]
  },
  {
   "cell_type": "markdown",
   "metadata": {},
   "source": [
    "## Evaluation of the model"
   ]
  },
  {
   "cell_type": "code",
   "execution_count": 67,
   "metadata": {},
   "outputs": [
    {
     "name": "stdout",
     "output_type": "stream",
     "text": [
      "[0.37220098 0.49705438 0.34834326 0.50135764 0.44746671 0.48671717\n",
      " 0.34633616 0.41537472 0.45089522 0.40103216]\n",
      "Mean R^2 Score: 0.43 (+/- 0.11)\n",
      "The R^2 for our model is 0.3974618995877144\n",
      "The MSE for our model is 3.863492024712005\n",
      "The RMSE for our model is 1.9655767664255712\n"
     ]
    }
   ],
   "source": [
    "from sklearn.metrics import mean_squared_error\n",
    "y_predict = clf.predict(X_test)\n",
    "clf_mse = mean_squared_error(y_predict, Y_test)\n",
    "sqrt(clf_mse)\n",
    "clf.score(X_test, Y_test)\n",
    "scores = cross_val_score(clf, X_train, Y_train, cv=10,scoring='r2')\n",
    "print(scores)\n",
    "print(\"Mean R^2 Score: %0.2f (+/- %0.2f)\" % (scores.mean(), scores.std() * 2))\n",
    "print(\"The R^2 for our model is {}\".format(clf.score(X_test, Y_test)))\n",
    "print(\"The MSE for our model is {}\".format(clf_mse))\n",
    "print(\"The RMSE for our model is {}\".format(sqrt(clf_mse)))"
   ]
  },
  {
   "cell_type": "markdown",
   "metadata": {},
   "source": [
    "# Random Forest"
   ]
  },
  {
   "cell_type": "code",
   "execution_count": 68,
   "metadata": {},
   "outputs": [
    {
     "name": "stdout",
     "output_type": "stream",
     "text": [
      "Best Hyperparamters: {'bootstrap': True, 'max_depth': None, 'max_features': 10, 'min_samples_leaf': 3, 'min_samples_split': 10, 'n_estimators': 20}\n",
      "Best R^2: 0.5630702615215557\n"
     ]
    }
   ],
   "source": [
    "clf_R = RandomForestRegressor()\n",
    "p_grid = {\"max_depth\": [3, None],\n",
    "              'n_estimators':[8,12,16,18,20,24,30],\n",
    "              \"max_features\": [1, 3, 10, 'auto'],\n",
    "              \"min_samples_split\": [2, 3, 10],\n",
    "              \"min_samples_leaf\": [1, 3, 10],\n",
    "              \"bootstrap\": [True, False]}\n",
    "grid = GridSearchCV(estimator = clf_R, param_grid = p_grid, cv = 10, n_jobs = -1)\n",
    "grid.fit(X_train, Y_train)\n",
    "finalparam = grid.best_params_\n",
    "print('Best Hyperparamters:', grid.best_params_ )\n",
    "print('Best R^2:', grid.best_score_)"
   ]
  },
  {
   "cell_type": "markdown",
   "metadata": {},
   "source": [
    "## Evaluation of the model"
   ]
  },
  {
   "cell_type": "code",
   "execution_count": 69,
   "metadata": {},
   "outputs": [
    {
     "name": "stdout",
     "output_type": "stream",
     "text": [
      "[0.32364918 0.49900151 0.34975345 0.52960539 0.37790008 0.46995236\n",
      " 0.35253514 0.39811911 0.45406893 0.3884408 ]\n",
      "Mean R^2 Score: 0.41 (+/- 0.13)\n",
      "The R^2 for our model is 0.5472405135542961\n",
      "The MSE for our model is 2.903107145919521\n",
      "RMSE value is: 1.7038506818144368\n"
     ]
    }
   ],
   "source": [
    "clf_RF = RandomForestRegressor(bootstrap = finalparam['bootstrap'], max_depth = finalparam['max_depth'],\n",
    "                               max_features = finalparam['max_features'],\n",
    "                               min_samples_leaf = finalparam['min_samples_leaf'],\n",
    "                               min_samples_split = finalparam['min_samples_split'],\n",
    "                               n_estimators = finalparam['n_estimators'])\n",
    "clf_RF.fit(X_train, Y_train)\n",
    "pred=clf_RF.predict(X_test)\n",
    "error = sqrt(mean_squared_error(Y_test,pred))\n",
    "scores = cross_val_score(clf_SVR, X_train_scaled, Y_train, cv=10,scoring='r2')\n",
    "print(scores)\n",
    "print(\"Mean R^2 Score: %0.2f (+/- %0.2f)\" % (scores.mean(), scores.std() * 2))\n",
    "print(\"The R^2 for our model is {}\".format(clf_RF.score(X_test, Y_test)))\n",
    "print(\"The MSE for our model is {}\".format(mean_squared_error(Y_test,pred)))\n",
    "print('RMSE value is:', error)"
   ]
  },
  {
   "cell_type": "markdown",
   "metadata": {},
   "source": [
    "## Feature Importance"
   ]
  },
  {
   "cell_type": "code",
   "execution_count": 70,
   "metadata": {},
   "outputs": [
    {
     "name": "stdout",
     "output_type": "stream",
     "text": [
      "The importance of feature US is 0.009438659940730629\n",
      "The importance of feature source_a is 0.027548098913314688\n",
      "The importance of feature source_c is 0.012648732410510118\n",
      "The importance of feature source_b is 0.004882887684024733\n",
      "The importance of feature source_d is 0.003453757126812787\n",
      "The importance of feature source_e is 0.011874768347979129\n",
      "The importance of feature source_m is 0.002045659732608998\n",
      "The importance of feature source_o is 0.002046594864507494\n",
      "The importance of feature source_h is 0.06374058986429253\n",
      "The importance of feature source_r is 0.0036455551205565174\n",
      "The importance of feature source_s is 0.003806277601080677\n",
      "The importance of feature source_t is 0.0014578649461480949\n",
      "The importance of feature source_u is 0.0231148191680045\n",
      "The importance of feature source_p is 0.0\n",
      "The importance of feature source_x is 0.0012902479811352252\n",
      "The importance of feature source_w is 0.00787374555785556\n",
      "The importance of feature Freq is 0.4861411775723325\n",
      "The importance of feature last_update_days_ago is 0.13307769577934908\n",
      "The importance of feature 1st_update_days_ago is 0.11968156566987717\n",
      "The importance of feature Web order is 0.041983823296559246\n",
      "The importance of feature Gender=male is 0.01241413546784834\n",
      "The importance of feature Address_is_res is 0.027833342954472037\n"
     ]
    }
   ],
   "source": [
    "feature_important = []\n",
    "column_names = []\n",
    "for idx, col_name in enumerate(X_train.columns):\n",
    "    print(\"The importance of feature {} is {}\".format(col_name, clf_RF.feature_importances_[idx]))\n",
    "    feature_important.append(clf_RF.feature_importances_[idx])\n",
    "    column_names.append(col_name)"
   ]
  },
  {
   "cell_type": "markdown",
   "metadata": {},
   "source": [
    "## Visualization of feature importance"
   ]
  },
  {
   "cell_type": "code",
   "execution_count": 71,
   "metadata": {},
   "outputs": [
    {
     "data": {
      "image/png": "[encoded data removed]",
      "text/plain": [
       "<Figure size 1008x432 with 1 Axes>"
      ]
     },
     "metadata": {
      "needs_background": "light"
     },
     "output_type": "display_data"
    }
   ],
   "source": [
    "plt.figure(figsize=(14, 6))\n",
    "plt.title(\"Feature importances\",size=20)\n",
    "plt.bar(range(X.shape[1]), feature_important,\n",
    "       color='y' , align=\"center\")\n",
    "plt.xticks(range(X.shape[1]), column_names,rotation=80,fontsize = 12)\n",
    "plt.xlim([-1, X.shape[1]])\n",
    "plt.show()"
   ]
  },
  {
   "cell_type": "markdown",
   "metadata": {},
   "source": [
    "# Ada Boosting"
   ]
  },
  {
   "cell_type": "code",
   "execution_count": 72,
   "metadata": {},
   "outputs": [
    {
     "name": "stdout",
     "output_type": "stream",
     "text": [
      "Best Hyperparamters: {'base_estimator': DecisionTreeRegressor(criterion='mse', max_depth=None, max_features=None,\n",
      "                      max_leaf_nodes=None, min_impurity_decrease=0.0,\n",
      "                      min_impurity_split=None, min_samples_leaf=1,\n",
      "                      min_samples_split=2, min_weight_fraction_leaf=0.0,\n",
      "                      presort=False, random_state=None, splitter='best'), 'learning_rate': 1.0, 'loss': 'exponential', 'n_estimators': 90}\n",
      "Best R^2: 0.47825590336014456\n"
     ]
    }
   ],
   "source": [
    "clf = AdaBoostRegressor()\n",
    "p_grid = {\"n_estimators\": list(range(10,100,10)),\n",
    "              \"base_estimator\": [DecisionTreeRegressor()],\n",
    "              'learning_rate':[0.3,0.5,0.7,1.0], 'loss' : ['linear', 'square', 'exponential']}\n",
    "grid = GridSearchCV(estimator = clf, param_grid = p_grid, cv = 10, n_jobs = -1)\n",
    "grid.fit(X_train, Y_train)\n",
    "finalparam = grid.best_params_\n",
    "print('Best Hyperparamters:', grid.best_params_)\n",
    "print('Best R^2:', grid.best_score_)"
   ]
  },
  {
   "cell_type": "markdown",
   "metadata": {},
   "source": [
    "## Evalation of the model"
   ]
  },
  {
   "cell_type": "code",
   "execution_count": 73,
   "metadata": {},
   "outputs": [
    {
     "name": "stdout",
     "output_type": "stream",
     "text": [
      "[0.44725149 0.50221887 0.54137025 0.51870496 0.54013247 0.33265094\n",
      " 0.25778505 0.44255637 0.56337699 0.48001435]\n",
      "Mean R^2 Score: 0.46 (+/- 0.19)\n",
      "The R^2 for our model is 0.40392240445630445\n",
      "The MSE for our model is 3.822067077445879\n",
      "RMSE value is: 1.955010761465491\n"
     ]
    }
   ],
   "source": [
    "clf_AD = AdaBoostRegressor(n_estimators = finalparam['n_estimators'], learning_rate = finalparam['learning_rate'],\n",
    "             base_estimator = finalparam['base_estimator'], loss = finalparam['loss'])\n",
    "clf_AD.fit(X_train, Y_train)\n",
    "pred=clf_AD.predict(X_test)\n",
    "error = sqrt(mean_squared_error(Y_test,pred))\n",
    "scores = cross_val_score(clf_AD, X_train, Y_train, cv=10,scoring='r2')\n",
    "print(scores)\n",
    "print(\"Mean R^2 Score: %0.2f (+/- %0.2f)\" % (scores.mean(), scores.std() * 2))\n",
    "print(\"The R^2 for our model is {}\".format(clf_AD.score(X_test, Y_test)))\n",
    "print(\"The MSE for our model is {}\".format(mean_squared_error(Y_test,pred)))\n",
    "print('RMSE value is:', error)"
   ]
  },
  {
   "cell_type": "markdown",
   "metadata": {},
   "source": [
    "# Gradient Boosting"
   ]
  },
  {
   "cell_type": "code",
   "execution_count": 74,
   "metadata": {},
   "outputs": [
    {
     "name": "stdout",
     "output_type": "stream",
     "text": [
      "Best Hyperparamters: {'n_estimators': 100, 'min_samples_split': 8, 'max_depth': 4, 'loss': 'ls', 'learning_rate': 0.3}\n",
      "Best R^2: 0.5406678119730792\n"
     ]
    }
   ],
   "source": [
    "clf = GradientBoostingRegressor()\n",
    "p_grid = {\"n_estimators\": list(range(100,300,50)), 'max_depth':list(range(2,20,2)),\n",
    "              'min_samples_split' : list(range(2,20,2)),\n",
    "              'learning_rate':[0.3,0.6,1.0], 'loss' : ['ls', 'lad']}\n",
    "grid = RandomizedSearchCV(estimator = clf, param_distributions = p_grid, cv = 10, n_jobs = -1)\n",
    "grid.fit(X_train, Y_train)\n",
    "finalparam = grid.best_params_\n",
    "print('Best Hyperparamters:', grid.best_params_)\n",
    "print('Best R^2:', grid.best_score_)"
   ]
  },
  {
   "cell_type": "markdown",
   "metadata": {},
   "source": [
    "## Evaluation of the model"
   ]
  },
  {
   "cell_type": "code",
   "execution_count": 75,
   "metadata": {},
   "outputs": [
    {
     "name": "stdout",
     "output_type": "stream",
     "text": [
      "[0.49958707 0.5687849  0.46231701 0.59728342 0.58578278 0.55632205\n",
      " 0.41534996 0.5790359  0.54646019 0.59754475]\n",
      "Mean R^2 Score: 0.54 (+/- 0.12)\n",
      "The R^2 for our model is 0.5274966007193113\n",
      "The MSE for our model is 3.029705695824296\n",
      "RMSE value is: 1.7406049798343954\n"
     ]
    }
   ],
   "source": [
    "clf_GB = GradientBoostingRegressor(n_estimators = finalparam['n_estimators'],\n",
    "                                   learning_rate = finalparam['learning_rate'],\n",
    "             max_depth = finalparam['max_depth'], loss = finalparam['loss'],\n",
    "                                   min_samples_split = finalparam['min_samples_split'] )\n",
    "clf_GB.fit(X_train, Y_train)\n",
    "pred=clf_GB.predict(X_test)\n",
    "error = sqrt(mean_squared_error(Y_test,pred))\n",
    "scores = cross_val_score(clf_GB, X_train, Y_train, cv=10,scoring='r2')\n",
    "print(scores)\n",
    "print(\"Mean R^2 Score: %0.2f (+/- %0.2f)\" % (scores.mean(), scores.std() * 2))\n",
    "print(\"The R^2 for our model is {}\".format(clf_GB.score(X_test, Y_test)))\n",
    "print(\"The MSE for our model is {}\".format(mean_squared_error(Y_test,pred)))\n",
    "print('RMSE value is:', error)"
   ]
  },
  {
   "cell_type": "markdown",
   "metadata": {},
   "source": [
    "# XGBoost"
   ]
  },
  {
   "cell_type": "code",
   "execution_count": 76,
   "metadata": {},
   "outputs": [
    {
     "name": "stdout",
     "output_type": "stream",
     "text": [
      "Best Hyperparamters: {'colsample_bytree': 0.8, 'gamma': 0.4, 'max_depth': 5, 'subsample': 0.7}\n",
      "Best R^2: 0.5794045698341069\n"
     ]
    }
   ],
   "source": [
    "clf = XGBRegressor(objective ='reg:squarederror')\n",
    "p_grid = {'max_depth': [2,3,5], 'gamma' : np.arange(0.1, 0.7, 0.1),\n",
    "              'subsample':[0.5,0.6,0.7,0.8],'colsample_bytree':[0.5,0.6,0.7,0.8]}\n",
    "grid = GridSearchCV(estimator = clf, param_grid = p_grid, cv = 10, n_jobs = -1)\n",
    "grid.fit(X_train, Y_train)\n",
    "finalparam = grid.best_params_\n",
    "print('Best Hyperparamters:', grid.best_params_)\n",
    "print('Best R^2:', grid.best_score_)"
   ]
  },
  {
   "cell_type": "markdown",
   "metadata": {},
   "source": [
    "## Evaluation of the model"
   ]
  },
  {
   "cell_type": "code",
   "execution_count": 77,
   "metadata": {},
   "outputs": [
    {
     "name": "stdout",
     "output_type": "stream",
     "text": [
      "[0.5655602  0.63485459 0.52314976 0.63904814 0.651861   0.54765286\n",
      " 0.44002704 0.61133745 0.56791168 0.61264297]\n",
      "Mean R^2 Score: 0.58 (+/- 0.12)\n",
      "The R^2 for our model is 0.5477110757329302\n",
      "The MSE for our model is 2.9000898873875873\n",
      "RMSE value is: 1.7029650282338704\n"
     ]
    }
   ],
   "source": [
    "clf_XG = XGBRegressor(objective ='reg:squarederror', max_depth = finalparam['max_depth'],\n",
    "                           gamma = finalparam['gamma'],\n",
    "             subsample = finalparam['subsample'], colsample_bytree = finalparam['colsample_bytree'])\n",
    "clf_XG.fit(X_train, Y_train)\n",
    "pred=clf_XG.predict(X_test)\n",
    "error = sqrt(mean_squared_error(Y_test,pred))\n",
    "scores = cross_val_score(clf_XG, X_train, Y_train, cv=10,scoring='r2')\n",
    "print(scores)\n",
    "print(\"Mean R^2 Score: %0.2f (+/- %0.2f)\" % (scores.mean(), scores.std() * 2))\n",
    "print(\"The R^2 for our model is {}\".format(clf_XG.score(X_test, Y_test)))\n",
    "print(\"The MSE for our model is {}\".format(mean_squared_error(Y_test,pred)))\n",
    "print('RMSE value is:', error)"
   ]
  },
  {
   "cell_type": "markdown",
   "metadata": {},
   "source": [
    "# Neural Network\n",
    "\n",
    "## Spilting the data for neural network analysis "
   ]
  },
  {
   "cell_type": "code",
   "execution_count": 78,
   "metadata": {},
   "outputs": [],
   "source": [
    "X_train, X_test, Y_train, Y_test = train_test_split(X, Y, test_size=0.2)\n",
    "TRAINING_SIZE = X_train.shape[0]\n",
    "features = X.shape[1]\n",
    "scaler = MinMaxScaler()\n",
    "scaler.fit(X_train)\n",
    "X_train_scaled = scaler.transform(X_train)\n",
    "X_test_scaled = scaler.transform(X_test)"
   ]
  },
  {
   "cell_type": "markdown",
   "metadata": {},
   "source": [
    "## Building neural network with two hidden layers"
   ]
  },
  {
   "cell_type": "code",
   "execution_count": 115,
   "metadata": {},
   "outputs": [
    {
     "name": "stdout",
     "output_type": "stream",
     "text": [
      "Model: \"sequential_4\"\n",
      "_________________________________________________________________\n",
      "Layer (type)                 Output Shape              Param #   \n",
      "=================================================================\n",
      "dense_14 (Dense)             (None, 100)               2300      \n",
      "_________________________________________________________________\n",
      "dense_15 (Dense)             (None, 80)                8080      \n",
      "_________________________________________________________________\n",
      "dense_16 (Dense)             (None, 1)                 81        \n",
      "=================================================================\n",
      "Total params: 10,461\n",
      "Trainable params: 10,461\n",
      "Non-trainable params: 0\n",
      "_________________________________________________________________\n"
     ]
    }
   ],
   "source": [
    "model = Sequential()\n",
    "#First Hidden Layer\n",
    "model.add(Dense(100, activation='relu', input_dim = X_train_scaled.shape[1]))  \n",
    "#Second Hidden Layer\n",
    "model.add(Dense(80, activation='relu'))\n",
    "model.add(Dense(1, activation='relu'))\n",
    "#Compiling the neural network\n",
    "model.compile(optimizer ='adam',loss='mse', metrics =['mae', 'mse'])\n",
    "model.summary()"
   ]
  },
  {
   "cell_type": "markdown",
   "metadata": {},
   "source": [
    "## Fitting the model"
   ]
  },
  {
   "cell_type": "code",
   "execution_count": 116,
   "metadata": {},
   "outputs": [],
   "source": [
    "model_info = model.fit(X_train_scaled, Y_train, batch_size=10, epochs=200, verbose=0, validation_split=0.2)"
   ]
  },
  {
   "cell_type": "markdown",
   "metadata": {},
   "source": [
    "## Evaluation of the model"
   ]
  },
  {
   "cell_type": "code",
   "execution_count": 117,
   "metadata": {},
   "outputs": [
    {
     "name": "stdout",
     "output_type": "stream",
     "text": [
      "Loss and MAE on Training Data\n",
      "1600/1600 [==============================] - 0s 17us/step\n",
      "Loss:  1.9739178746938706 and MAE: 0.8603249192237854\n",
      "**************************************************\n",
      "Loss and MAE on Test Data\n",
      "400/400 [==============================] - 0s 17us/step\n",
      "Loss:  3.6583613109588624 and MAE: 1.1982791423797607\n"
     ]
    }
   ],
   "source": [
    "print(\"Loss and MAE on Training Data\")\n",
    "eval_model=model.evaluate(X_train_scaled, Y_train)\n",
    "print('Loss: ',eval_model[0], 'and', 'MAE:',eval_model[1])\n",
    "print('*' * 50)\n",
    "print(\"Loss and MAE on Test Data\")\n",
    "result=model.evaluate(X_test_scaled, Y_test)\n",
    "print('Loss: ',result[0], 'and', 'MAE:',result[1])"
   ]
  },
  {
   "cell_type": "markdown",
   "metadata": {},
   "source": [
    "## Visualization of the loss for training and test data"
   ]
  },
  {
   "cell_type": "code",
   "execution_count": 118,
   "metadata": {},
   "outputs": [
    {
     "data": {
      "image/png": "[encoded data removed]",
      "text/plain": [
       "<Figure size 432x288 with 1 Axes>"
      ]
     },
     "metadata": {
      "needs_background": "light"
     },
     "output_type": "display_data"
    }
   ],
   "source": [
    "plt.plot(model_info.history['loss'])\n",
    "plt.plot(model_info.history['val_loss'])\n",
    "plt.title('model loss')\n",
    "plt.ylabel('loss')\n",
    "plt.xlabel('epoch')\n",
    "plt.legend(['train', 'validation'], loc='upper left')\n",
    "plt.show()"
   ]
  },
  {
   "cell_type": "markdown",
   "metadata": {},
   "source": [
    "## Visualization of the mse for training and test data"
   ]
  },
  {
   "cell_type": "code",
   "execution_count": 119,
   "metadata": {},
   "outputs": [
    {
     "data": {
      "image/png": "[encoded data removed]",
      "text/plain": [
       "<Figure size 432x288 with 1 Axes>"
      ]
     },
     "metadata": {
      "needs_background": "light"
     },
     "output_type": "display_data"
    }
   ],
   "source": [
    "plt.plot(model_info.history['mse'])\n",
    "plt.plot(model_info.history['val_mse'])\n",
    "plt.title('model mse')\n",
    "plt.ylabel('mse')\n",
    "plt.xlabel('epoch')\n",
    "plt.legend(['train', 'validation'], loc='upper left')\n",
    "plt.show()"
   ]
  },
  {
   "cell_type": "markdown",
   "metadata": {},
   "source": [
    "## Visualization of the mae for training and test data"
   ]
  },
  {
   "cell_type": "code",
   "execution_count": 120,
   "metadata": {},
   "outputs": [
    {
     "data": {
      "image/png": "[encoded data removed]",
      "text/plain": [
       "<Figure size 432x288 with 1 Axes>"
      ]
     },
     "metadata": {
      "needs_background": "light"
     },
     "output_type": "display_data"
    }
   ],
   "source": [
    "plt.plot(model_info.history['mae'])\n",
    "plt.plot(model_info.history['val_mae'])\n",
    "plt.title('model mae')\n",
    "plt.ylabel('mae')\n",
    "plt.xlabel('epoch')\n",
    "plt.legend(['train', 'validation'], loc='upper left')\n",
    "plt.show()"
   ]
  },
  {
   "cell_type": "markdown",
   "metadata": {},
   "source": [
    "# Deep Neural Network\n",
    "\n",
    "## Building the model with mutliple hidden layers"
   ]
  },
  {
   "cell_type": "code",
   "execution_count": 96,
   "metadata": {},
   "outputs": [
    {
     "name": "stdout",
     "output_type": "stream",
     "text": [
      "Model: \"sequential_3\"\n",
      "_________________________________________________________________\n",
      "Layer (type)                 Output Shape              Param #   \n",
      "=================================================================\n",
      "dense_9 (Dense)              (None, 100)               2300      \n",
      "_________________________________________________________________\n",
      "dense_10 (Dense)             (None, 80)                8080      \n",
      "_________________________________________________________________\n",
      "dense_11 (Dense)             (None, 60)                4860      \n",
      "_________________________________________________________________\n",
      "dense_12 (Dense)             (None, 10)                610       \n",
      "_________________________________________________________________\n",
      "dense_13 (Dense)             (None, 1)                 11        \n",
      "=================================================================\n",
      "Total params: 15,861\n",
      "Trainable params: 15,861\n",
      "Non-trainable params: 0\n",
      "_________________________________________________________________\n"
     ]
    }
   ],
   "source": [
    "model = Sequential()\n",
    "model.add(Dense(100, activation='relu', input_dim = X_train_scaled.shape[1]))  \n",
    "model.add(Dense(80, activation='relu'))\n",
    "model.add(Dense(60, activation='relu'))\n",
    "model.add(Dense(10, activation='relu'))\n",
    "model.add(Dense(1, activation='relu'))\n",
    "model.compile(optimizer ='adam',loss='mse', metrics =['mae', 'mse'])\n",
    "model.summary()"
   ]
  },
  {
   "cell_type": "markdown",
   "metadata": {},
   "source": [
    "## Fitting the model"
   ]
  },
  {
   "cell_type": "code",
   "execution_count": 97,
   "metadata": {},
   "outputs": [],
   "source": [
    "model_info = model.fit(X_train_scaled, Y_train, batch_size=10, epochs=200, verbose=0, validation_split=0.2)"
   ]
  },
  {
   "cell_type": "markdown",
   "metadata": {},
   "source": [
    "## Evaluation of the model"
   ]
  },
  {
   "cell_type": "code",
   "execution_count": 98,
   "metadata": {},
   "outputs": [
    {
     "name": "stdout",
     "output_type": "stream",
     "text": [
      "Loss and MAE on Training Data\n",
      "1600/1600 [==============================] - 0s 28us/step\n",
      "Loss:  1.8314746695756912 and MAE: 0.7480514645576477\n",
      "**************************************************\n",
      "Loss and MAE on Test Data\n",
      "400/400 [==============================] - 0s 22us/step\n",
      "Loss:  3.9301705169677734 and MAE: 1.1905632019042969\n"
     ]
    }
   ],
   "source": [
    "print(\"Loss and MAE on Training Data\")\n",
    "eval_model=model.evaluate(X_train_scaled, Y_train)\n",
    "print('Loss: ',eval_model[0], 'and', 'MAE:',eval_model[1])\n",
    "print('*' * 50)\n",
    "print(\"Loss and MAE on Test Data\")\n",
    "result=model.evaluate(X_test_scaled, Y_test)\n",
    "print('Loss: ',result[0], 'and', 'MAE:',result[1])"
   ]
  },
  {
   "cell_type": "markdown",
   "metadata": {},
   "source": [
    "## Visualization of the loss for training and test data"
   ]
  },
  {
   "cell_type": "code",
   "execution_count": 99,
   "metadata": {},
   "outputs": [
    {
     "data": {
      "image/png": "[encoded data removed]",
      "text/plain": [
       "<Figure size 432x288 with 1 Axes>"
      ]
     },
     "metadata": {
      "needs_background": "light"
     },
     "output_type": "display_data"
    }
   ],
   "source": [
    "plt.plot(model_info.history['loss'])\n",
    "plt.plot(model_info.history['val_loss'])\n",
    "plt.title('model loss')\n",
    "plt.ylabel('loss')\n",
    "plt.xlabel('epoch')\n",
    "plt.legend(['train', 'validation'], loc='upper left')\n",
    "plt.show()"
   ]
  },
  {
   "cell_type": "markdown",
   "metadata": {},
   "source": [
    "## Visualization of the mse for training and test data"
   ]
  },
  {
   "cell_type": "code",
   "execution_count": 100,
   "metadata": {},
   "outputs": [
    {
     "data": {
      "image/png": "[encoded data removed]",
      "text/plain": [
       "<Figure size 432x288 with 1 Axes>"
      ]
     },
     "metadata": {
      "needs_background": "light"
     },
     "output_type": "display_data"
    }
   ],
   "source": [
    "plt.plot(model_info.history['mse'])\n",
    "plt.plot(model_info.history['val_mse'])\n",
    "plt.title('model mse')\n",
    "plt.ylabel('mse')\n",
    "plt.xlabel('epoch')\n",
    "plt.legend(['train', 'validation'], loc='upper left')\n",
    "plt.show()"
   ]
  },
  {
   "cell_type": "markdown",
   "metadata": {},
   "source": [
    "## Visualization of the mae for training and test data"
   ]
  },
  {
   "cell_type": "code",
   "execution_count": 101,
   "metadata": {},
   "outputs": [
    {
     "data": {
      "image/png": "[encoded data removed]",
      "text/plain": [
       "<Figure size 432x288 with 1 Axes>"
      ]
     },
     "metadata": {
      "needs_background": "light"
     },
     "output_type": "display_data"
    }
   ],
   "source": [
    "plt.plot(model_info.history['mae'])\n",
    "plt.plot(model_info.history['val_mae'])\n",
    "plt.title('model mae')\n",
    "plt.ylabel('mae')\n",
    "plt.xlabel('epoch')\n",
    "plt.legend(['train', 'validation'], loc='upper left')\n",
    "plt.show()"
   ]
  },
  {
   "cell_type": "markdown",
   "metadata": {},
   "source": [
    "# Using early stopping for the model "
   ]
  },
  {
   "cell_type": "code",
   "execution_count": 110,
   "metadata": {},
   "outputs": [
    {
     "name": "stdout",
     "output_type": "stream",
     "text": [
      "Train on 1280 samples, validate on 320 samples\n",
      "Epoch 1/200\n",
      " - 0s - loss: 1.0991 - mae: 0.5697 - mse: 1.0991 - val_loss: 4.8199 - val_mae: 1.4754 - val_mse: 4.8199\n",
      "Epoch 2/200\n",
      " - 0s - loss: 1.1429 - mae: 0.5856 - mse: 1.1429 - val_loss: 4.8449 - val_mae: 1.4553 - val_mse: 4.8449\n",
      "Epoch 3/200\n",
      " - 0s - loss: 1.1353 - mae: 0.5799 - mse: 1.1353 - val_loss: 4.9257 - val_mae: 1.4756 - val_mse: 4.9257\n",
      "Epoch 4/200\n",
      " - 0s - loss: 1.1585 - mae: 0.5959 - mse: 1.1585 - val_loss: 4.4412 - val_mae: 1.3811 - val_mse: 4.4412\n",
      "Epoch 5/200\n",
      " - 0s - loss: 1.1752 - mae: 0.5978 - mse: 1.1752 - val_loss: 4.7964 - val_mae: 1.4476 - val_mse: 4.7964\n",
      "Epoch 6/200\n",
      " - 0s - loss: 1.1068 - mae: 0.5719 - mse: 1.1068 - val_loss: 4.9530 - val_mae: 1.5002 - val_mse: 4.9530\n",
      "Epoch 7/200\n",
      " - 0s - loss: 1.1454 - mae: 0.5889 - mse: 1.1454 - val_loss: 4.7420 - val_mae: 1.4189 - val_mse: 4.7420\n",
      "Epoch 8/200\n",
      " - 0s - loss: 1.1010 - mae: 0.5607 - mse: 1.1010 - val_loss: 5.1298 - val_mae: 1.5229 - val_mse: 5.1298\n",
      "Epoch 9/200\n",
      " - 0s - loss: 1.1237 - mae: 0.5786 - mse: 1.1237 - val_loss: 5.0211 - val_mae: 1.5014 - val_mse: 5.0211\n",
      "Epoch 00009: early stopping\n"
     ]
    }
   ],
   "source": [
    "earlystop = EarlyStopping(monitor='val_loss', min_delta=0.0001, patience=5,\n",
    "                          verbose=2, mode='auto')\n",
    "callbacks_list = [earlystop]\n",
    "model_info = model.fit(X_train_scaled, Y_train, batch_size=10,\n",
    "                       epochs=200, callbacks=callbacks_list, verbose=2,\n",
    "                       validation_split=0.2)"
   ]
  },
  {
   "cell_type": "markdown",
   "metadata": {},
   "source": [
    "## Evaluation of the model"
   ]
  },
  {
   "cell_type": "code",
   "execution_count": 111,
   "metadata": {},
   "outputs": [
    {
     "name": "stdout",
     "output_type": "stream",
     "text": [
      "Loss and MAE on Training Data\n",
      "1600/1600 [==============================] - 0s 27us/step\n",
      "Loss:  1.8117927193641663 and MAE: 0.739722728729248\n",
      "**************************************************\n",
      "Loss and MAE on Test Data\n",
      "400/400 [==============================] - 0s 20us/step\n",
      "Loss:  4.134869976043701 and MAE: 1.2374722957611084\n"
     ]
    }
   ],
   "source": [
    "print(\"Loss and MAE on Training Data\")\n",
    "eval_model=model.evaluate(X_train_scaled, Y_train)\n",
    "print('Loss: ',eval_model[0], 'and', 'MAE:',eval_model[1])\n",
    "print('*' * 50)\n",
    "print(\"Loss and MAE on Test Data\")\n",
    "result=model.evaluate(X_test_scaled, Y_test)\n",
    "print('Loss: ',result[0], 'and', 'MAE:',result[1])"
   ]
  },
  {
   "cell_type": "markdown",
   "metadata": {},
   "source": [
    "## Visualization of the loss for training and test data"
   ]
  },
  {
   "cell_type": "code",
   "execution_count": 112,
   "metadata": {},
   "outputs": [
    {
     "data": {
      "image/png": "[encoded data removed]",
      "text/plain": [
       "<Figure size 432x288 with 1 Axes>"
      ]
     },
     "metadata": {
      "needs_background": "light"
     },
     "output_type": "display_data"
    }
   ],
   "source": [
    "plt.plot(model_info.history['loss'])\n",
    "plt.plot(model_info.history['val_loss'])\n",
    "plt.title('model loss')\n",
    "plt.ylabel('loss')\n",
    "plt.xlabel('epoch')\n",
    "plt.legend(['train', 'validation'], loc='upper left')\n",
    "plt.show()"
   ]
  },
  {
   "cell_type": "markdown",
   "metadata": {},
   "source": [
    "## Visualization of the mse for training and test data"
   ]
  },
  {
   "cell_type": "code",
   "execution_count": 113,
   "metadata": {},
   "outputs": [
    {
     "data": {
      "image/png": "[encoded data removed]",
      "text/plain": [
       "<Figure size 432x288 with 1 Axes>"
      ]
     },
     "metadata": {
      "needs_background": "light"
     },
     "output_type": "display_data"
    }
   ],
   "source": [
    "plt.plot(model_info.history['mse'])\n",
    "plt.plot(model_info.history['val_mse'])\n",
    "plt.title('model mse')\n",
    "plt.ylabel('mse')\n",
    "plt.xlabel('epoch')\n",
    "plt.legend(['train', 'validation'], loc='upper left')\n",
    "plt.show()"
   ]
  },
  {
   "cell_type": "markdown",
   "metadata": {},
   "source": [
    "## Visualization of the mae for training and test data"
   ]
  },
  {
   "cell_type": "code",
   "execution_count": 114,
   "metadata": {},
   "outputs": [
    {
     "data": {
      "image/png": "[encoded data removed]",
      "text/plain": [
       "<Figure size 432x288 with 1 Axes>"
      ]
     },
     "metadata": {
      "needs_background": "light"
     },
     "output_type": "display_data"
    }
   ],
   "source": [
    "plt.plot(model_info.history['mae'])\n",
    "plt.plot(model_info.history['val_mae'])\n",
    "plt.title('model mae')\n",
    "plt.ylabel('mae')\n",
    "plt.xlabel('epoch')\n",
    "plt.legend(['train', 'validation'], loc='upper left')\n",
    "plt.show()"
   ]
  },
  {
   "cell_type": "markdown",
   "metadata": {},
   "source": [
    "# Setting purchase equal to 1\n",
    "# Loading the data"
   ]
  },
  {
   "cell_type": "code",
   "execution_count": 121,
   "metadata": {},
   "outputs": [],
   "source": [
    "data1 = data[data['Purchase'] == 1]"
   ]
  },
  {
   "cell_type": "markdown",
   "metadata": {},
   "source": [
    "# Segmenting target and predictor data"
   ]
  },
  {
   "cell_type": "code",
   "execution_count": 122,
   "metadata": {},
   "outputs": [],
   "source": [
    "X = data1.drop(['sequence_number', 'Spending','Purchase'], axis=1)\n",
    "Y = data1[['Spending']]\n",
    "# Log transformation\n",
    "Y = np.log(Y + 1)"
   ]
  },
  {
   "cell_type": "markdown",
   "metadata": {},
   "source": [
    "# Spliting target and predictor data into training and testing "
   ]
  },
  {
   "cell_type": "code",
   "execution_count": 123,
   "metadata": {},
   "outputs": [],
   "source": [
    "from sklearn.model_selection import train_test_split\n",
    "X_train, X_test, Y_train, Y_test = train_test_split(X, Y, test_size = 0.20)"
   ]
  },
  {
   "cell_type": "markdown",
   "metadata": {},
   "source": [
    "# Scaling the data using MinMaxScaler"
   ]
  },
  {
   "cell_type": "code",
   "execution_count": 124,
   "metadata": {},
   "outputs": [],
   "source": [
    "from sklearn.preprocessing import MinMaxScaler\n",
    "scaler = MinMaxScaler()\n",
    "scaler.fit(X_train)\n",
    "X_train_scaled = scaler.transform(X_train)\n",
    "X_test_scaled = scaler.transform(X_test)"
   ]
  },
  {
   "cell_type": "markdown",
   "metadata": {},
   "source": [
    "# Linear Regresssion"
   ]
  },
  {
   "cell_type": "code",
   "execution_count": 125,
   "metadata": {},
   "outputs": [],
   "source": [
    "clf = LinearRegression()\n",
    "clf.fit(X_train, Y_train)\n",
    "yPrediction = clf.predict(X_test)"
   ]
  },
  {
   "cell_type": "markdown",
   "metadata": {},
   "source": [
    "## The coeficients of all the features"
   ]
  },
  {
   "cell_type": "code",
   "execution_count": 126,
   "metadata": {},
   "outputs": [
    {
     "name": "stdout",
     "output_type": "stream",
     "text": [
      "The coefficient for US is -0.17172783190877144\n",
      "The coefficient for source_a is 0.2832343155913391\n",
      "The coefficient for source_c is -0.10872076608635958\n",
      "The coefficient for source_b is 0.2769882600653772\n",
      "The coefficient for source_d is 0.18447758334294267\n",
      "The coefficient for source_e is 0.05070854995874982\n",
      "The coefficient for source_m is 0.0906786431792244\n",
      "The coefficient for source_o is 0.0303833211831694\n",
      "The coefficient for source_h is -0.47541668346214\n",
      "The coefficient for source_r is 0.2945196245172954\n",
      "The coefficient for source_s is -0.23974853789031889\n",
      "The coefficient for source_t is 0.07673964062751952\n",
      "The coefficient for source_u is 0.06578394828222367\n",
      "The coefficient for source_p is -0.09747593975091155\n",
      "The coefficient for source_x is -0.15152519554678023\n",
      "The coefficient for source_w is 0.17863189633386223\n",
      "The coefficient for Freq is 0.24118180222149702\n",
      "The coefficient for last_update_days_ago is -0.00017192159572798496\n",
      "The coefficient for 1st_update_days_ago is 9.900224805884705e-05\n",
      "The coefficient for Web order is -0.00948508541406606\n",
      "The coefficient for Gender=male is -0.03730282728632032\n",
      "The coefficient for Address_is_res is -0.12862793219525331\n"
     ]
    }
   ],
   "source": [
    "for idx, col_name in enumerate(X_train.columns):\n",
    "    print(\"The coefficient for {} is {}\".format(col_name, clf.coef_[0][idx]))"
   ]
  },
  {
   "cell_type": "markdown",
   "metadata": {},
   "source": [
    "## Intercept of the model"
   ]
  },
  {
   "cell_type": "code",
   "execution_count": 127,
   "metadata": {},
   "outputs": [
    {
     "name": "stdout",
     "output_type": "stream",
     "text": [
      "The intercept for our model is 4.608627390832903\n"
     ]
    }
   ],
   "source": [
    "intercept = clf.intercept_[0]\n",
    "print(\"The intercept for our model is {}\".format(intercept))"
   ]
  },
  {
   "cell_type": "markdown",
   "metadata": {},
   "source": [
    "## Evaluation of the model"
   ]
  },
  {
   "cell_type": "code",
   "execution_count": 128,
   "metadata": {},
   "outputs": [
    {
     "name": "stdout",
     "output_type": "stream",
     "text": [
      "[0.21216776 0.41756124 0.23455716 0.25820336 0.26523832 0.2321356\n",
      " 0.25775474]\n",
      "Mean R^2 Score: 0.27 (+/- 0.13)\n",
      "The R^2 for our model is 0.2813153732267104\n",
      "The MSE for our model is 0.6512135677229722\n",
      "The RMSE for our model is 0.8069780466177331\n"
     ]
    }
   ],
   "source": [
    "from sklearn.metrics import mean_squared_error\n",
    "y_predict = clf.predict(X_test)\n",
    "clf_mse = mean_squared_error(y_predict, Y_test)\n",
    "sqrt(clf_mse)\n",
    "clf.score(X_test, Y_test)\n",
    "scores = cross_val_score(clf, X_train, Y_train, cv=7,scoring='r2')\n",
    "print(scores)\n",
    "print(\"Mean R^2 Score: %0.2f (+/- %0.2f)\" % (scores.mean(), scores.std() * 2))\n",
    "print(\"The R^2 for our model is {}\".format(clf.score(X_test, Y_test)))\n",
    "print(\"The MSE for our model is {}\".format(clf_mse))\n",
    "print(\"The RMSE for our model is {}\".format(sqrt(clf_mse)))"
   ]
  },
  {
   "cell_type": "markdown",
   "metadata": {},
   "source": [
    "# KNN"
   ]
  },
  {
   "cell_type": "code",
   "execution_count": 129,
   "metadata": {},
   "outputs": [
    {
     "name": "stdout",
     "output_type": "stream",
     "text": [
      "Best Hyperparamters: {'algorithm': 'ball_tree', 'n_neighbors': 30, 'weights': 'uniform'}\n",
      "Best R^2: 0.06642507077417673\n"
     ]
    }
   ],
   "source": [
    "clf = KNeighborsRegressor()\n",
    "p_grid = {'weights':[\"uniform\", \"distance\"], 'n_neighbors' : list(range(1,31)),\n",
    "          'algorithm' : ['auto', 'ball_tree', 'kd_tree', 'brute']}\n",
    "grid = GridSearchCV(estimator = clf, param_grid = p_grid, cv = 10, n_jobs = -1, scoring = 'r2')\n",
    "grid.fit(X_train_scaled, Y_train)\n",
    "finalparam = grid.best_params_\n",
    "print('Best Hyperparamters:', grid.best_params_ )\n",
    "print('Best R^2:', grid.best_score_)"
   ]
  },
  {
   "cell_type": "markdown",
   "metadata": {},
   "source": [
    "## Evaluation of the model"
   ]
  },
  {
   "cell_type": "code",
   "execution_count": 130,
   "metadata": {},
   "outputs": [
    {
     "name": "stdout",
     "output_type": "stream",
     "text": [
      "[0.05537072 0.01185519 0.07160437 0.00746942 0.07968116 0.09906608\n",
      " 0.04215175 0.11528125 0.09583899 0.08593179]\n",
      "Mean R^2 Score: 0.07 (+/- 0.07)\n",
      "The R^2 for our model is 0.11585495600434102\n",
      "The MSE for our model is 0.8011403431155125\n",
      "RMSE value for k = 30 is: 0.8950644351752071\n"
     ]
    }
   ],
   "source": [
    "clf_KNN = KNeighborsRegressor(n_neighbors= finalparam['n_neighbors'],\n",
    "                              weights= finalparam['weights'], algorithm =finalparam['algorithm'])\n",
    "clf_KNN.fit(X_train_scaled, Y_train)\n",
    "pred=clf_KNN.predict(X_test_scaled)\n",
    "error = sqrt(mean_squared_error(Y_test,pred))\n",
    "scores = cross_val_score(clf_KNN, X_train_scaled, Y_train, cv=10,scoring='r2')\n",
    "print(scores)\n",
    "print(\"Mean R^2 Score: %0.2f (+/- %0.2f)\" % (scores.mean(), scores.std() * 2))\n",
    "print(\"The R^2 for our model is {}\".format(clf_KNN.score(X_test_scaled, Y_test)))\n",
    "print(\"The MSE for our model is {}\".format(mean_squared_error(Y_test,pred)))\n",
    "print('RMSE value for k =' , finalparam['n_neighbors'] , 'is:', error)"
   ]
  },
  {
   "cell_type": "markdown",
   "metadata": {},
   "source": [
    "# Regression Tree"
   ]
  },
  {
   "cell_type": "code",
   "execution_count": 132,
   "metadata": {},
   "outputs": [
    {
     "name": "stdout",
     "output_type": "stream",
     "text": [
      "Best Hyperparamters: {'criterion': 'mse', 'max_depth': 4, 'min_samples_leaf': 28}\n",
      "Best R^2: 0.23089180871730167\n"
     ]
    }
   ],
   "source": [
    "clf = DecisionTreeRegressor()\n",
    "p_grid = {\"max_depth\": list(range(1,30)), \"criterion\" : ['mse'], 'min_samples_leaf' : list(range(1,30))}\n",
    "grid = GridSearchCV(estimator = clf,verbose = 0, param_grid = p_grid, cv = 10, n_jobs = -1, scoring = 'r2')\n",
    "grid.fit(X_train, Y_train)\n",
    "finalparam = grid.best_params_\n",
    "print('Best Hyperparamters:', grid.best_params_ )\n",
    "print('Best R^2:', grid.best_score_)"
   ]
  },
  {
   "cell_type": "markdown",
   "metadata": {},
   "source": [
    "## Evaluation of the model"
   ]
  },
  {
   "cell_type": "code",
   "execution_count": 133,
   "metadata": {},
   "outputs": [
    {
     "name": "stdout",
     "output_type": "stream",
     "text": [
      "[0.22392107 0.09502501 0.44442331 0.26584055 0.19121771 0.2567116\n",
      " 0.21093034 0.12100236 0.16940245 0.33044369]\n",
      "Mean R^2 Score: 0.23 (+/- 0.19)\n",
      "The R^2 for our model is 0.2148407467725343\n",
      "The MSE for our model is 0.7114474687187863\n",
      "RMSE value is: 0.8434734546616072\n"
     ]
    }
   ],
   "source": [
    "clf_RT = DecisionTreeRegressor(max_depth= finalparam['max_depth'], criterion= finalparam['criterion'],\n",
    "                               min_samples_leaf =finalparam['min_samples_leaf'])\n",
    "clf_RT.fit(X_train, Y_train)\n",
    "pred=clf_RT.predict(X_test)\n",
    "error = sqrt(mean_squared_error(Y_test,pred))\n",
    "scores = cross_val_score(clf_RT, X_train, Y_train, cv=10,scoring='r2')\n",
    "print(scores)\n",
    "print(\"Mean R^2 Score: %0.2f (+/- %0.2f)\" % (scores.mean(), scores.std() * 2))\n",
    "print(\"The R^2 for our model is {}\".format(clf_RT.score(X_test, Y_test)))\n",
    "print(\"The MSE for our model is {}\".format(mean_squared_error(Y_test,pred)))\n",
    "print('RMSE value is:', error)"
   ]
  },
  {
   "cell_type": "markdown",
   "metadata": {},
   "source": [
    "# SVR"
   ]
  },
  {
   "cell_type": "code",
   "execution_count": 134,
   "metadata": {},
   "outputs": [
    {
     "name": "stdout",
     "output_type": "stream",
     "text": [
      "Best Hyperparamters: {'C': 100, 'degree': 3, 'gamma': 'auto', 'kernel': 'linear'}\n",
      "Best Score: 0.2334722229476761\n"
     ]
    }
   ],
   "source": [
    "clf = SVR()\n",
    "p_grid = {'kernel':['linear', 'poly', 'rbf', 'sigmoid' ], 'C' : [0.001,0.1,1,10,100],\n",
    "          'degree': list(range(3,8)), 'gamma': ['auto', 'scale']}\n",
    "grid = GridSearchCV(estimator = clf, param_grid = p_grid, cv = 10,verbose = 0,n_jobs = -1, scoring = 'r2')\n",
    "grid.fit(X_train_scaled, Y_train)\n",
    "finalparam = grid.best_params_\n",
    "print('Best Hyperparamters:', grid.best_params_ )\n",
    "print('Best Score:', grid.best_score_)"
   ]
  },
  {
   "cell_type": "markdown",
   "metadata": {},
   "source": [
    "## Evaluation of the model"
   ]
  },
  {
   "cell_type": "code",
   "execution_count": 136,
   "metadata": {},
   "outputs": [
    {
     "name": "stdout",
     "output_type": "stream",
     "text": [
      "[0.23139351 0.18855979 0.51678965 0.17893484 0.29683571 0.17880873\n",
      " 0.26486751 0.05964663 0.19443541 0.22445047]\n",
      "Mean R^2 Score: 0.23 (+/- 0.22)\n",
      "The R^2 for our model is 0.28914284896396714\n",
      "The MSE for our model is 0.6441209457143314\n",
      "RMSE value is: 0.8025714583227661\n"
     ]
    }
   ],
   "source": [
    "clf_SVR = SVR(kernel= finalparam['kernel'], C = finalparam['C'], degree = finalparam['degree'],\n",
    "                   gamma = finalparam['gamma'])\n",
    "clf_SVR.fit(X_train_scaled, Y_train)\n",
    "pred=clf_SVR.predict(X_test_scaled)\n",
    "error = sqrt(mean_squared_error(Y_test,pred))\n",
    "scores = cross_val_score(clf_SVR, X_train_scaled, Y_train, cv=10,scoring='r2')\n",
    "print(scores)\n",
    "print(\"Mean R^2 Score: %0.2f (+/- %0.2f)\" % (scores.mean(), scores.std() * 2))\n",
    "print(\"The R^2 for our model is {}\".format(clf_SVR.score(X_test_scaled, Y_test)))\n",
    "print(\"The MSE for our model is {}\".format(mean_squared_error(Y_test,pred)))\n",
    "print('RMSE value is:', error)"
   ]
  },
  {
   "cell_type": "markdown",
   "metadata": {},
   "source": [
    "# Lasso"
   ]
  },
  {
   "cell_type": "code",
   "execution_count": 137,
   "metadata": {},
   "outputs": [],
   "source": [
    "clf = Lasso(alpha=1.0, fit_intercept=True, normalize=False, precompute=False, copy_X=True,\n",
    "            max_iter=1000, tol=0.0001, warm_start=False, positive=False, random_state=None, selection='cyclic')\n",
    "clf.fit(X_train, Y_train)\n",
    "yPrediction = clf.predict(X_test)"
   ]
  },
  {
   "cell_type": "markdown",
   "metadata": {},
   "source": [
    "## The coeficients of all the features"
   ]
  },
  {
   "cell_type": "code",
   "execution_count": 138,
   "metadata": {},
   "outputs": [
    {
     "name": "stdout",
     "output_type": "stream",
     "text": [
      "The coefficient for US is -0.0\n",
      "The coefficient for source_a is 0.0\n",
      "The coefficient for source_c is -0.0\n",
      "The coefficient for source_b is 0.0\n",
      "The coefficient for source_d is 0.0\n",
      "The coefficient for source_e is -0.0\n",
      "The coefficient for source_m is -0.0\n",
      "The coefficient for source_o is -0.0\n",
      "The coefficient for source_h is -0.0\n",
      "The coefficient for source_r is 0.0\n",
      "The coefficient for source_s is -0.0\n",
      "The coefficient for source_t is -0.0\n",
      "The coefficient for source_u is -0.0\n",
      "The coefficient for source_p is -0.0\n",
      "The coefficient for source_x is -0.0\n",
      "The coefficient for source_w is 0.0\n",
      "The coefficient for Freq is 0.0\n",
      "The coefficient for last_update_days_ago is -0.0004489961231153251\n",
      "The coefficient for 1st_update_days_ago is 0.00038528513119592735\n",
      "The coefficient for Web order is -0.0\n",
      "The coefficient for Gender=male is -0.0\n",
      "The coefficient for Address_is_res is -0.0\n"
     ]
    }
   ],
   "source": [
    "for idx, col_name in enumerate(X_train.columns):\n",
    "    print(\"The coefficient for {} is {}\".format(col_name, clf.coef_[idx]))"
   ]
  },
  {
   "cell_type": "markdown",
   "metadata": {},
   "source": [
    "## Intercept of the model"
   ]
  },
  {
   "cell_type": "code",
   "execution_count": 139,
   "metadata": {},
   "outputs": [
    {
     "name": "stdout",
     "output_type": "stream",
     "text": [
      "The intercept for our model is 4.874587076908188\n"
     ]
    }
   ],
   "source": [
    "intercept = clf.intercept_[0]\n",
    "print(\"The intercept for our model is {}\".format(intercept))"
   ]
  },
  {
   "cell_type": "markdown",
   "metadata": {},
   "source": [
    "## Evaluation of the model"
   ]
  },
  {
   "cell_type": "code",
   "execution_count": 140,
   "metadata": {},
   "outputs": [
    {
     "name": "stdout",
     "output_type": "stream",
     "text": [
      "[0.11083578 0.30033907 0.1400182  0.24047053 0.14632693 0.17231515\n",
      " 0.09949125]\n",
      "Mean R^2 Score: 0.17 (+/- 0.13)\n",
      "The R^2 for our model is 0.19901724489634798\n",
      "The MSE for our model is 0.7257854394041019\n",
      "The RMSE for our model is 0.8519304193442689\n"
     ]
    }
   ],
   "source": [
    "from sklearn.metrics import mean_squared_error\n",
    "y_predict = clf.predict(X_test)\n",
    "clf_mse = mean_squared_error(y_predict, Y_test)\n",
    "sqrt(clf_mse)\n",
    "clf.score(X_test, Y_test)\n",
    "scores = cross_val_score(clf, X_train, Y_train, cv=7,scoring='r2')\n",
    "print(scores)\n",
    "print(\"Mean R^2 Score: %0.2f (+/- %0.2f)\" % (scores.mean(), scores.std() * 2))\n",
    "print(\"The R^2 for our model is {}\".format(clf.score(X_test, Y_test)))\n",
    "print(\"The MSE for our model is {}\".format(clf_mse))\n",
    "print(\"The RMSE for our model is {}\".format(sqrt(clf_mse)))"
   ]
  },
  {
   "cell_type": "markdown",
   "metadata": {},
   "source": [
    "# Ridge"
   ]
  },
  {
   "cell_type": "code",
   "execution_count": 141,
   "metadata": {},
   "outputs": [],
   "source": [
    "clf = Ridge(alpha=1.0, fit_intercept=True, normalize=False, copy_X=True, max_iter=None,\n",
    "            tol=0.001, solver='auto', random_state=None)\n",
    "clf.fit(X_train, Y_train)\n",
    "yPrediction = clf.predict(X_test)"
   ]
  },
  {
   "cell_type": "markdown",
   "metadata": {},
   "source": [
    "## The coeficients of all the features"
   ]
  },
  {
   "cell_type": "code",
   "execution_count": 142,
   "metadata": {},
   "outputs": [
    {
     "name": "stdout",
     "output_type": "stream",
     "text": [
      "The coefficient for US is -0.1689358979983977\n",
      "The coefficient for source_a is 0.2615768120733995\n",
      "The coefficient for source_c is -0.12462622910172921\n",
      "The coefficient for source_b is 0.24819813842317248\n",
      "The coefficient for source_d is 0.16004428992790248\n",
      "The coefficient for source_e is 0.031340765656947\n",
      "The coefficient for source_m is 0.06713437775038761\n",
      "The coefficient for source_o is 0.009677872309197809\n",
      "The coefficient for source_h is -0.4437953871036811\n",
      "The coefficient for source_r is 0.2705457195807371\n",
      "The coefficient for source_s is -0.24821775486241676\n",
      "The coefficient for source_t is 0.054591394925273366\n",
      "The coefficient for source_u is 0.04612001081613898\n",
      "The coefficient for source_p is -0.10232629530561538\n",
      "The coefficient for source_x is -0.16102846695057133\n",
      "The coefficient for source_w is 0.15919866594097978\n",
      "The coefficient for Freq is 0.2409676279102226\n",
      "The coefficient for last_update_days_ago is -0.00017156352739306865\n",
      "The coefficient for 1st_update_days_ago is 9.943850808517291e-05\n",
      "The coefficient for Web order is -0.009736110000504736\n",
      "The coefficient for Gender=male is -0.03709963705262134\n",
      "The coefficient for Address_is_res is -0.1290666906779225\n"
     ]
    }
   ],
   "source": [
    "for idx, col_name in enumerate(X_train.columns):\n",
    "    print(\"The coefficient for {} is {}\".format(col_name, clf.coef_[0][idx]))"
   ]
  },
  {
   "cell_type": "markdown",
   "metadata": {},
   "source": [
    "## Intercept of the model"
   ]
  },
  {
   "cell_type": "code",
   "execution_count": 143,
   "metadata": {},
   "outputs": [
    {
     "name": "stdout",
     "output_type": "stream",
     "text": [
      "The intercept for our model is 4.624440952571267\n"
     ]
    }
   ],
   "source": [
    "intercept = clf.intercept_[0]\n",
    "print(\"The intercept for our model is {}\".format(intercept))"
   ]
  },
  {
   "cell_type": "markdown",
   "metadata": {},
   "source": [
    "## Evaluation of the model"
   ]
  },
  {
   "cell_type": "code",
   "execution_count": 144,
   "metadata": {},
   "outputs": [
    {
     "name": "stdout",
     "output_type": "stream",
     "text": [
      "[0.21087567 0.4212827  0.23471731 0.26675523 0.26478833 0.23319902\n",
      " 0.26538618]\n",
      "Mean R^2 Score: 0.27 (+/- 0.13)\n",
      "The R^2 for our model is 0.27987751440190956\n",
      "The MSE for our model is 0.6525164384680784\n",
      "The RMSE for our model is 0.807784896162387\n"
     ]
    }
   ],
   "source": [
    "from sklearn.metrics import mean_squared_error\n",
    "y_predict = clf.predict(X_test)\n",
    "clf_mse = mean_squared_error(y_predict, Y_test)\n",
    "sqrt(clf_mse)\n",
    "clf.score(X_test, Y_test)\n",
    "scores = cross_val_score(clf, X_train, Y_train, cv=7,scoring='r2')\n",
    "print(scores)\n",
    "print(\"Mean R^2 Score: %0.2f (+/- %0.2f)\" % (scores.mean(), scores.std() * 2))\n",
    "print(\"The R^2 for our model is {}\".format(clf.score(X_test, Y_test)))\n",
    "print(\"The MSE for our model is {}\".format(clf_mse))\n",
    "print(\"The RMSE for our model is {}\".format(sqrt(clf_mse)))"
   ]
  },
  {
   "cell_type": "markdown",
   "metadata": {},
   "source": [
    "# Random Forest"
   ]
  },
  {
   "cell_type": "code",
   "execution_count": 146,
   "metadata": {},
   "outputs": [
    {
     "name": "stdout",
     "output_type": "stream",
     "text": [
      "Best Hyperparamters: {'bootstrap': True, 'max_depth': None, 'max_features': 10, 'min_samples_leaf': 1, 'min_samples_split': 10, 'n_estimators': 18}\n",
      "Best R^2: 0.2675032899811495\n"
     ]
    }
   ],
   "source": [
    "clf_R = RandomForestRegressor()\n",
    "p_grid = {\"max_depth\": [3, None],\n",
    "              'n_estimators':[8,12,16,18,20,24,30],\n",
    "              \"max_features\": [1, 3, 10, 'auto'],\n",
    "              \"min_samples_split\": [2, 3, 10],\n",
    "              \"min_samples_leaf\": [1, 3, 10],\n",
    "              \"bootstrap\": [True, False]}\n",
    "grid = GridSearchCV(estimator = clf_R, param_grid = p_grid, cv = 10, verbose = 0, n_jobs = -1, scoring = 'r2')\n",
    "grid.fit(X_train, Y_train)\n",
    "finalparam = grid.best_params_\n",
    "print('Best Hyperparamters:', grid.best_params_ )\n",
    "print('Best R^2:', grid.best_score_)"
   ]
  },
  {
   "cell_type": "markdown",
   "metadata": {},
   "source": [
    "## Evaluation of the model"
   ]
  },
  {
   "cell_type": "code",
   "execution_count": 147,
   "metadata": {},
   "outputs": [
    {
     "name": "stdout",
     "output_type": "stream",
     "text": [
      "[0.23139351 0.18855979 0.51678965 0.17893484 0.29683571 0.17880873\n",
      " 0.26486751 0.05964663 0.19443541 0.22445047]\n",
      "Mean R^2 Score: 0.23 (+/- 0.22)\n",
      "The R^2 for our model is 0.2856615080660009\n",
      "The MSE for our model is 0.6472754537449306\n",
      "RMSE value is: 0.8045343086189243\n"
     ]
    }
   ],
   "source": [
    "clf_RF = RandomForestRegressor(bootstrap = finalparam['bootstrap'], max_depth = finalparam['max_depth'],\n",
    "                               max_features = finalparam['max_features'],\n",
    "                               min_samples_leaf = finalparam['min_samples_leaf'],\n",
    "                               min_samples_split = finalparam['min_samples_split'],\n",
    "                               n_estimators = finalparam['n_estimators'])\n",
    "clf_RF.fit(X_train, Y_train)\n",
    "pred=clf_RF.predict(X_test)\n",
    "error = sqrt(mean_squared_error(Y_test,pred))\n",
    "scores = cross_val_score(clf_SVR, X_train_scaled, Y_train, cv=10,scoring='r2')\n",
    "print(scores)\n",
    "print(\"Mean R^2 Score: %0.2f (+/- %0.2f)\" % (scores.mean(), scores.std() * 2))\n",
    "print(\"The R^2 for our model is {}\".format(clf_RF.score(X_test, Y_test)))\n",
    "print(\"The MSE for our model is {}\".format(mean_squared_error(Y_test,pred)))\n",
    "print('RMSE value is:', error)"
   ]
  },
  {
   "cell_type": "markdown",
   "metadata": {},
   "source": [
    "## Feature Importance"
   ]
  },
  {
   "cell_type": "code",
   "execution_count": 148,
   "metadata": {},
   "outputs": [
    {
     "name": "stdout",
     "output_type": "stream",
     "text": [
      "The importance of feature US is 0.01635391343604378\n",
      "The importance of feature source_a is 0.016357094396861564\n",
      "The importance of feature source_c is 0.009949552062501548\n",
      "The importance of feature source_b is 0.002731326744547273\n",
      "The importance of feature source_d is 0.010110966645599052\n",
      "The importance of feature source_e is 0.016569469477988596\n",
      "The importance of feature source_m is 0.004781781188619784\n",
      "The importance of feature source_o is 0.000988477639379313\n",
      "The importance of feature source_h is 0.014712035629802972\n",
      "The importance of feature source_r is 0.0212692801001905\n",
      "The importance of feature source_s is 0.022384762998327565\n",
      "The importance of feature source_t is 0.0035408834275387968\n",
      "The importance of feature source_u is 0.017238694443084932\n",
      "The importance of feature source_p is 0.0009090504047956158\n",
      "The importance of feature source_x is 0.005248130812741086\n",
      "The importance of feature source_w is 0.014766378368166149\n",
      "The importance of feature Freq is 0.3476350576332138\n",
      "The importance of feature last_update_days_ago is 0.23040690410713227\n",
      "The importance of feature 1st_update_days_ago is 0.17513253504100704\n",
      "The importance of feature Web order is 0.017900526248070037\n",
      "The importance of feature Gender=male is 0.02041400701998833\n",
      "The importance of feature Address_is_res is 0.030599172174400096\n"
     ]
    }
   ],
   "source": [
    "feature_important = []\n",
    "column_names = []\n",
    "for idx, col_name in enumerate(X_train.columns):\n",
    "    print(\"The importance of feature {} is {}\".format(col_name, clf_RF.feature_importances_[idx]))\n",
    "    feature_important.append(clf_RF.feature_importances_[idx])\n",
    "    column_names.append(col_name)"
   ]
  },
  {
   "cell_type": "markdown",
   "metadata": {},
   "source": [
    "## Visualization of the feature importance"
   ]
  },
  {
   "cell_type": "code",
   "execution_count": 149,
   "metadata": {},
   "outputs": [
    {
     "data": {
      "image/png": "[encoded data removed]",
      "text/plain": [
       "<Figure size 1008x432 with 1 Axes>"
      ]
     },
     "metadata": {
      "needs_background": "light"
     },
     "output_type": "display_data"
    }
   ],
   "source": [
    "plt.figure(figsize=(14, 6))\n",
    "plt.title(\"Feature importances\",size=20)\n",
    "plt.bar(range(X.shape[1]), feature_important,\n",
    "       color='y' , align=\"center\")\n",
    "plt.xticks(range(X.shape[1]), column_names,rotation=80,fontsize = 12)\n",
    "plt.xlim([-1, X.shape[1]])\n",
    "plt.show()"
   ]
  },
  {
   "cell_type": "markdown",
   "metadata": {},
   "source": [
    "# Ada Boosting"
   ]
  },
  {
   "cell_type": "code",
   "execution_count": 151,
   "metadata": {},
   "outputs": [
    {
     "name": "stdout",
     "output_type": "stream",
     "text": [
      "Best Hyperparamters: {'base_estimator': DecisionTreeRegressor(criterion='mse', max_depth=None, max_features=None,\n",
      "                      max_leaf_nodes=None, min_impurity_decrease=0.0,\n",
      "                      min_impurity_split=None, min_samples_leaf=1,\n",
      "                      min_samples_split=2, min_weight_fraction_leaf=0.0,\n",
      "                      presort=False, random_state=None, splitter='best'), 'learning_rate': 1.0, 'loss': 'exponential', 'n_estimators': 90}\n",
      "Best R^2: 0.2007567032328344\n"
     ]
    }
   ],
   "source": [
    "clf = AdaBoostRegressor()\n",
    "p_grid = {\"n_estimators\": list(range(10,100,10)),\n",
    "              \"base_estimator\": [DecisionTreeRegressor()],\n",
    "              'learning_rate':[0.3,0.5,0.7,1.0], 'loss' : ['linear', 'square', 'exponential']}\n",
    "grid = GridSearchCV(estimator = clf, param_grid = p_grid, cv = 10, verbose = 0, n_jobs = -1, scoring = 'r2')\n",
    "grid.fit(X_train, Y_train)\n",
    "finalparam = grid.best_params_\n",
    "print('Best Hyperparamters:', grid.best_params_)\n",
    "print('Best R^2:', grid.best_score_)"
   ]
  },
  {
   "cell_type": "markdown",
   "metadata": {},
   "source": [
    "## Evaluation of the model"
   ]
  },
  {
   "cell_type": "code",
   "execution_count": 152,
   "metadata": {},
   "outputs": [
    {
     "name": "stdout",
     "output_type": "stream",
     "text": [
      "[0.30073102 0.18088151 0.3744287  0.00752331 0.45862858 0.10884926\n",
      " 0.11417353 0.11782184 0.10437095 0.28591494]\n",
      "Mean R^2 Score: 0.21 (+/- 0.27)\n",
      "The R^2 for our model is 0.25634768539360875\n",
      "The MSE for our model is 0.6738372561474592\n",
      "RMSE value is: 0.8208759078858747\n"
     ]
    }
   ],
   "source": [
    "clf_AD = AdaBoostRegressor(n_estimators = finalparam['n_estimators'], learning_rate = finalparam['learning_rate'],\n",
    "             base_estimator = finalparam['base_estimator'], loss = finalparam['loss'])\n",
    "clf_AD.fit(X_train, Y_train)\n",
    "pred=clf_AD.predict(X_test)\n",
    "error = sqrt(mean_squared_error(Y_test,pred))\n",
    "scores = cross_val_score(clf_AD, X_train, Y_train, cv=10,scoring='r2')\n",
    "print(scores)\n",
    "print(\"Mean R^2 Score: %0.2f (+/- %0.2f)\" % (scores.mean(), scores.std() * 2))\n",
    "print(\"The R^2 for our model is {}\".format(clf_AD.score(X_test, Y_test)))\n",
    "print(\"The MSE for our model is {}\".format(mean_squared_error(Y_test,pred)))\n",
    "print('RMSE value is:', error)"
   ]
  },
  {
   "cell_type": "markdown",
   "metadata": {},
   "source": [
    "# Gradient Boosting"
   ]
  },
  {
   "cell_type": "code",
   "execution_count": 153,
   "metadata": {},
   "outputs": [
    {
     "name": "stdout",
     "output_type": "stream",
     "text": [
      "Best Hyperparamters: {'n_estimators': 250, 'min_samples_split': 10, 'max_depth': 2, 'loss': 'ls', 'learning_rate': 0.3}\n",
      "Best R^2: 0.1912111611903351\n"
     ]
    }
   ],
   "source": [
    "clf = GradientBoostingRegressor()\n",
    "p_grid = {\"n_estimators\": list(range(100,300,50)), 'max_depth':list(range(2,20,4)),\n",
    "              'min_samples_split' : list(range(2,20,4)),\n",
    "              'learning_rate':[0.3,0.6,1.0], 'loss' : ['ls', 'lad']}\n",
    "grid = RandomizedSearchCV(estimator = clf, param_distributions = p_grid,cv = 10,verbose= 0, n_jobs = -1,scoring = 'r2')\n",
    "grid.fit(X_train, Y_train)\n",
    "finalparam = grid.best_params_\n",
    "print('Best Hyperparamters:', grid.best_params_)\n",
    "print('Best R^2:', grid.best_score_)"
   ]
  },
  {
   "cell_type": "markdown",
   "metadata": {},
   "source": [
    "## Evaluation of the model"
   ]
  },
  {
   "cell_type": "code",
   "execution_count": 154,
   "metadata": {},
   "outputs": [
    {
     "name": "stdout",
     "output_type": "stream",
     "text": [
      "[ 0.14659173  0.11388679  0.34245543  0.31508185  0.28493205  0.21047815\n",
      "  0.13529889 -0.07256342  0.2420382   0.19767111]\n",
      "Mean R^2 Score: 0.19 (+/- 0.23)\n",
      "The R^2 for our model is 0.18632035068268182\n",
      "The MSE for our model is 0.7372903324710451\n",
      "RMSE value is: 0.8586561200335354\n"
     ]
    }
   ],
   "source": [
    "clf_GB = GradientBoostingRegressor(n_estimators = finalparam['n_estimators'],\n",
    "                                   learning_rate = finalparam['learning_rate'],\n",
    "             max_depth = finalparam['max_depth'], loss = finalparam['loss'],\n",
    "                                   min_samples_split = finalparam['min_samples_split'] )\n",
    "clf_GB.fit(X_train, Y_train)\n",
    "pred=clf_GB.predict(X_test)\n",
    "error = sqrt(mean_squared_error(Y_test,pred))\n",
    "scores = cross_val_score(clf_GB, X_train, Y_train, cv=10,scoring='r2')\n",
    "print(scores)\n",
    "print(\"Mean R^2 Score: %0.2f (+/- %0.2f)\" % (scores.mean(), scores.std() * 2))\n",
    "print(\"The R^2 for our model is {}\".format(clf_GB.score(X_test, Y_test)))\n",
    "print(\"The MSE for our model is {}\".format(mean_squared_error(Y_test,pred)))\n",
    "print('RMSE value is:', error)"
   ]
  },
  {
   "cell_type": "markdown",
   "metadata": {},
   "source": [
    "# XGBoost"
   ]
  },
  {
   "cell_type": "code",
   "execution_count": 155,
   "metadata": {},
   "outputs": [
    {
     "name": "stdout",
     "output_type": "stream",
     "text": [
      "Best Hyperparamters: {'colsample_bytree': 0.7, 'gamma': 0.5, 'max_depth': 3, 'subsample': 0.7}\n",
      "Best R^2: 0.2861638673032992\n"
     ]
    }
   ],
   "source": [
    "clf = XGBRegressor(objective ='reg:squarederror')\n",
    "p_grid = {'max_depth': [2,3,5], 'gamma' : np.arange(0.1, 0.7, 0.1),\n",
    "              'subsample':[0.5,0.6,0.7,0.8],'colsample_bytree':[0.5,0.6,0.7,0.8]}\n",
    "grid = GridSearchCV(estimator = clf, param_grid = p_grid, cv = 10, verbose = 0, n_jobs = -1, scoring = 'r2')\n",
    "grid.fit(X_train, Y_train)\n",
    "finalparam = grid.best_params_\n",
    "print('Best Hyperparamters:', grid.best_params_)\n",
    "print('Best R^2:', grid.best_score_)"
   ]
  },
  {
   "cell_type": "markdown",
   "metadata": {},
   "source": [
    "## Evaluation of the model"
   ]
  },
  {
   "cell_type": "code",
   "execution_count": 156,
   "metadata": {},
   "outputs": [
    {
     "name": "stdout",
     "output_type": "stream",
     "text": [
      "[0.271253   0.11200698 0.59652843 0.32066555 0.34381893 0.2386306\n",
      " 0.31811102 0.15059204 0.20972567 0.30030645]\n",
      "Mean R^2 Score: 0.29 (+/- 0.25)\n",
      "The R^2 for our model is 0.2934692717191063\n",
      "The MSE for our model is 0.6402006932240263\n",
      "RMSE value is: 0.800125423433118\n"
     ]
    }
   ],
   "source": [
    "clf_XG = XGBRegressor(objective ='reg:squarederror', max_depth = finalparam['max_depth'],\n",
    "                           gamma = finalparam['gamma'],\n",
    "             subsample = finalparam['subsample'], colsample_bytree = finalparam['colsample_bytree'])\n",
    "clf_XG.fit(X_train, Y_train)\n",
    "pred=clf_XG.predict(X_test)\n",
    "error = sqrt(mean_squared_error(Y_test,pred))\n",
    "scores = cross_val_score(clf_XG, X_train, Y_train, cv=10,scoring='r2')\n",
    "print(scores)\n",
    "print(\"Mean R^2 Score: %0.2f (+/- %0.2f)\" % (scores.mean(), scores.std() * 2))\n",
    "print(\"The R^2 for our model is {}\".format(clf_XG.score(X_test, Y_test)))\n",
    "print(\"The MSE for our model is {}\".format(mean_squared_error(Y_test,pred)))\n",
    "print('RMSE value is:', error)"
   ]
  },
  {
   "cell_type": "markdown",
   "metadata": {},
   "source": [
    "# Neural Network\n",
    "\n",
    "## Spilting the data for neural network analysis "
   ]
  },
  {
   "cell_type": "code",
   "execution_count": 157,
   "metadata": {},
   "outputs": [],
   "source": [
    "X_train, X_test, Y_train, Y_test = train_test_split(X, Y, test_size=0.2)\n",
    "TRAINING_SIZE = X_train.shape[0]\n",
    "features = X.shape[1]\n",
    "scaler = MinMaxScaler()\n",
    "scaler.fit(X_train)\n",
    "X_train_scaled = scaler.transform(X_train)\n",
    "X_test_scaled = scaler.transform(X_test)"
   ]
  },
  {
   "cell_type": "markdown",
   "metadata": {},
   "source": [
    "## Builing neural network with two hidden layers"
   ]
  },
  {
   "cell_type": "code",
   "execution_count": 158,
   "metadata": {},
   "outputs": [
    {
     "name": "stdout",
     "output_type": "stream",
     "text": [
      "Model: \"sequential_5\"\n",
      "_________________________________________________________________\n",
      "Layer (type)                 Output Shape              Param #   \n",
      "=================================================================\n",
      "dense_17 (Dense)             (None, 100)               2300      \n",
      "_________________________________________________________________\n",
      "dense_18 (Dense)             (None, 80)                8080      \n",
      "_________________________________________________________________\n",
      "dense_19 (Dense)             (None, 1)                 81        \n",
      "=================================================================\n",
      "Total params: 10,461\n",
      "Trainable params: 10,461\n",
      "Non-trainable params: 0\n",
      "_________________________________________________________________\n"
     ]
    }
   ],
   "source": [
    "model = Sequential()\n",
    "#First Hidden Layer\n",
    "model.add(Dense(100, activation='relu', input_dim = X_train_scaled.shape[1]))  \n",
    "#Second Hidden Layer\n",
    "model.add(Dense(80, activation='relu'))\n",
    "model.add(Dense(1, activation='relu'))\n",
    "#Compiling the neural network\n",
    "model.compile(optimizer ='adam',loss='mse', metrics =['mae', 'mse'])\n",
    "model.summary()"
   ]
  },
  {
   "cell_type": "markdown",
   "metadata": {},
   "source": [
    "## Fitting the model"
   ]
  },
  {
   "cell_type": "code",
   "execution_count": 159,
   "metadata": {},
   "outputs": [],
   "source": [
    "model_info = model.fit(X_train_scaled, Y_train, batch_size=10, epochs=200, verbose=0, validation_split=0.2)"
   ]
  },
  {
   "cell_type": "markdown",
   "metadata": {},
   "source": [
    "## Evaluation of the model"
   ]
  },
  {
   "cell_type": "code",
   "execution_count": 160,
   "metadata": {},
   "outputs": [
    {
     "name": "stdout",
     "output_type": "stream",
     "text": [
      "Loss and MAE on Training Data\n",
      "800/800 [==============================] - 0s 21us/step\n",
      "Loss:  0.3274355950951576 and MAE: 0.4025478661060333\n",
      "**************************************************\n",
      "Loss and MAE on Test Data\n",
      "200/200 [==============================] - 0s 26us/step\n",
      "Loss:  0.7242035341262817 and MAE: 0.6451468467712402\n"
     ]
    }
   ],
   "source": [
    "print(\"Loss and MAE on Training Data\")\n",
    "eval_model=model.evaluate(X_train_scaled, Y_train)\n",
    "print('Loss: ',eval_model[0], 'and', 'MAE:',eval_model[1])\n",
    "print('*' * 50)\n",
    "print(\"Loss and MAE on Test Data\")\n",
    "result=model.evaluate(X_test_scaled, Y_test)\n",
    "print('Loss: ',result[0], 'and', 'MAE:',result[1])"
   ]
  },
  {
   "cell_type": "markdown",
   "metadata": {},
   "source": [
    "## Visualization of loss for training and test data"
   ]
  },
  {
   "cell_type": "code",
   "execution_count": 161,
   "metadata": {},
   "outputs": [
    {
     "data": {
      "image/png": "[encoded data removed]",
      "text/plain": [
       "<Figure size 432x288 with 1 Axes>"
      ]
     },
     "metadata": {
      "needs_background": "light"
     },
     "output_type": "display_data"
    }
   ],
   "source": [
    "plt.plot(model_info.history['loss'])\n",
    "plt.plot(model_info.history['val_loss'])\n",
    "plt.title('model loss')\n",
    "plt.ylabel('loss')\n",
    "plt.xlabel('epoch')\n",
    "plt.legend(['train', 'validation'], loc='upper left')\n",
    "plt.show()"
   ]
  },
  {
   "cell_type": "markdown",
   "metadata": {},
   "source": [
    "## Visualization of mse for training and test data"
   ]
  },
  {
   "cell_type": "code",
   "execution_count": 162,
   "metadata": {},
   "outputs": [
    {
     "data": {
      "image/png": "[encoded data removed]",
      "text/plain": [
       "<Figure size 432x288 with 1 Axes>"
      ]
     },
     "metadata": {
      "needs_background": "light"
     },
     "output_type": "display_data"
    }
   ],
   "source": [
    "plt.plot(model_info.history['mse'])\n",
    "plt.plot(model_info.history['val_mse'])\n",
    "plt.title('model mse')\n",
    "plt.ylabel('mse')\n",
    "plt.xlabel('epoch')\n",
    "plt.legend(['train', 'validation'], loc='upper left')\n",
    "plt.show()"
   ]
  },
  {
   "cell_type": "markdown",
   "metadata": {},
   "source": [
    "## Visualization of mae for training and test data"
   ]
  },
  {
   "cell_type": "code",
   "execution_count": 163,
   "metadata": {},
   "outputs": [
    {
     "data": {
      "image/png": "[encoded data removed]",
      "text/plain": [
       "<Figure size 432x288 with 1 Axes>"
      ]
     },
     "metadata": {
      "needs_background": "light"
     },
     "output_type": "display_data"
    }
   ],
   "source": [
    "plt.plot(model_info.history['mae'])\n",
    "plt.plot(model_info.history['val_mae'])\n",
    "plt.title('model mae')\n",
    "plt.ylabel('mae')\n",
    "plt.xlabel('epoch')\n",
    "plt.legend(['train', 'validation'], loc='upper left')\n",
    "plt.show()"
   ]
  },
  {
   "cell_type": "markdown",
   "metadata": {},
   "source": [
    "# Deep Neural Network\n",
    "\n",
    "## Building the model with mutliple hidden layers"
   ]
  },
  {
   "cell_type": "code",
   "execution_count": 164,
   "metadata": {},
   "outputs": [
    {
     "name": "stdout",
     "output_type": "stream",
     "text": [
      "Model: \"sequential_6\"\n",
      "_________________________________________________________________\n",
      "Layer (type)                 Output Shape              Param #   \n",
      "=================================================================\n",
      "dense_20 (Dense)             (None, 100)               2300      \n",
      "_________________________________________________________________\n",
      "dense_21 (Dense)             (None, 80)                8080      \n",
      "_________________________________________________________________\n",
      "dense_22 (Dense)             (None, 60)                4860      \n",
      "_________________________________________________________________\n",
      "dense_23 (Dense)             (None, 10)                610       \n",
      "_________________________________________________________________\n",
      "dense_24 (Dense)             (None, 1)                 11        \n",
      "=================================================================\n",
      "Total params: 15,861\n",
      "Trainable params: 15,861\n",
      "Non-trainable params: 0\n",
      "_________________________________________________________________\n"
     ]
    }
   ],
   "source": [
    "model = Sequential()\n",
    "model.add(Dense(100, activation='relu', input_dim = X_train_scaled.shape[1]))  \n",
    "model.add(Dense(80, activation='relu'))\n",
    "model.add(Dense(60, activation='relu'))\n",
    "model.add(Dense(10, activation='relu'))\n",
    "model.add(Dense(1, activation='relu'))\n",
    "model.compile(optimizer ='adam',loss='mse', metrics =['mae', 'mse'])\n",
    "model.summary()"
   ]
  },
  {
   "cell_type": "markdown",
   "metadata": {},
   "source": [
    "## Fitting the model "
   ]
  },
  {
   "cell_type": "code",
   "execution_count": 165,
   "metadata": {},
   "outputs": [],
   "source": [
    "model_info = model.fit(X_train_scaled, Y_train, batch_size=10, epochs=200, verbose=0, validation_split=0.2)"
   ]
  },
  {
   "cell_type": "markdown",
   "metadata": {},
   "source": [
    "## Evaluation of the model "
   ]
  },
  {
   "cell_type": "code",
   "execution_count": 166,
   "metadata": {},
   "outputs": [
    {
     "name": "stdout",
     "output_type": "stream",
     "text": [
      "Loss and MAE on Training Data\n",
      "800/800 [==============================] - 0s 29us/step\n",
      "Loss:  0.30681402146816256 and MAE: 0.36670753359794617\n",
      "**************************************************\n",
      "Loss and MAE on Test Data\n",
      "200/200 [==============================] - 0s 30us/step\n",
      "Loss:  0.7981597352027893 and MAE: 0.6890013217926025\n"
     ]
    }
   ],
   "source": [
    "print(\"Loss and MAE on Training Data\")\n",
    "eval_model=model.evaluate(X_train_scaled, Y_train)\n",
    "print('Loss: ',eval_model[0], 'and', 'MAE:',eval_model[1])\n",
    "print('*' * 50)\n",
    "print(\"Loss and MAE on Test Data\")\n",
    "result=model.evaluate(X_test_scaled, Y_test)\n",
    "print('Loss: ',result[0], 'and', 'MAE:',result[1])"
   ]
  },
  {
   "cell_type": "markdown",
   "metadata": {},
   "source": [
    "## Visualization of loss for training and test data"
   ]
  },
  {
   "cell_type": "code",
   "execution_count": 167,
   "metadata": {},
   "outputs": [
    {
     "data": {
      "image/png": "[encoded data removed]",
      "text/plain": [
       "<Figure size 432x288 with 1 Axes>"
      ]
     },
     "metadata": {
      "needs_background": "light"
     },
     "output_type": "display_data"
    }
   ],
   "source": [
    "plt.plot(model_info.history['loss'])\n",
    "plt.plot(model_info.history['val_loss'])\n",
    "plt.title('model loss')\n",
    "plt.ylabel('loss')\n",
    "plt.xlabel('epoch')\n",
    "plt.legend(['train', 'validation'], loc='upper left')\n",
    "plt.show()"
   ]
  },
  {
   "cell_type": "markdown",
   "metadata": {},
   "source": [
    "## Visualization of mse for training and test data"
   ]
  },
  {
   "cell_type": "code",
   "execution_count": 168,
   "metadata": {},
   "outputs": [
    {
     "data": {
      "image/png": "[encoded data removed]",
      "text/plain": [
       "<Figure size 432x288 with 1 Axes>"
      ]
     },
     "metadata": {
      "needs_background": "light"
     },
     "output_type": "display_data"
    }
   ],
   "source": [
    "plt.plot(model_info.history['mse'])\n",
    "plt.plot(model_info.history['val_mse'])\n",
    "plt.title('model mse')\n",
    "plt.ylabel('mse')\n",
    "plt.xlabel('epoch')\n",
    "plt.legend(['train', 'validation'], loc='upper left')\n",
    "plt.show()"
   ]
  },
  {
   "cell_type": "markdown",
   "metadata": {},
   "source": [
    "## Visualization of mae for training and test data"
   ]
  },
  {
   "cell_type": "code",
   "execution_count": 169,
   "metadata": {},
   "outputs": [
    {
     "data": {
      "image/png": "[encoded data removed]",
      "text/plain": [
       "<Figure size 432x288 with 1 Axes>"
      ]
     },
     "metadata": {
      "needs_background": "light"
     },
     "output_type": "display_data"
    }
   ],
   "source": [
    "plt.plot(model_info.history['mae'])\n",
    "plt.plot(model_info.history['val_mae'])\n",
    "plt.title('model mae')\n",
    "plt.ylabel('mae')\n",
    "plt.xlabel('epoch')\n",
    "plt.legend(['train', 'validation'], loc='upper left')\n",
    "plt.show()"
   ]
  },
  {
   "cell_type": "markdown",
   "metadata": {},
   "source": [
    "# Using early stopping for the model"
   ]
  },
  {
   "cell_type": "code",
   "execution_count": 170,
   "metadata": {},
   "outputs": [
    {
     "name": "stdout",
     "output_type": "stream",
     "text": [
      "Train on 640 samples, validate on 160 samples\n",
      "Epoch 1/200\n",
      "640/640 [==============================] - 0s 170us/step - loss: 0.1946 - mae: 0.3137 - mse: 0.1946 - val_loss: 0.8410 - val_mae: 0.6929 - val_mse: 0.8410\n",
      "Epoch 2/200\n",
      "640/640 [==============================] - 0s 150us/step - loss: 0.1989 - mae: 0.3181 - mse: 0.1989 - val_loss: 0.8259 - val_mae: 0.6699 - val_mse: 0.8259\n",
      "Epoch 3/200\n",
      "640/640 [==============================] - 0s 143us/step - loss: 0.1847 - mae: 0.3036 - mse: 0.1847 - val_loss: 0.8606 - val_mae: 0.6999 - val_mse: 0.8606\n",
      "Epoch 4/200\n",
      "640/640 [==============================] - 0s 220us/step - loss: 0.1868 - mae: 0.3036 - mse: 0.1868 - val_loss: 0.8605 - val_mae: 0.6954 - val_mse: 0.8605\n",
      "Epoch 5/200\n",
      "640/640 [==============================] - 0s 274us/step - loss: 0.2004 - mae: 0.3190 - mse: 0.2004 - val_loss: 0.8889 - val_mae: 0.7017 - val_mse: 0.8889\n",
      "Epoch 6/200\n",
      "640/640 [==============================] - 0s 265us/step - loss: 0.1967 - mae: 0.3183 - mse: 0.1967 - val_loss: 0.8652 - val_mae: 0.6908 - val_mse: 0.8652\n",
      "Epoch 7/200\n",
      "640/640 [==============================] - 0s 260us/step - loss: 0.1937 - mae: 0.3136 - mse: 0.1937 - val_loss: 0.8440 - val_mae: 0.6794 - val_mse: 0.8440\n",
      "Epoch 00007: early stopping\n"
     ]
    }
   ],
   "source": [
    "earlystop = EarlyStopping(monitor='val_loss', min_delta=0.0001, patience=5,\n",
    "                          verbose=1, mode='auto')\n",
    "callbacks_list = [earlystop]\n",
    "model_info = model.fit(X_train_scaled, Y_train, batch_size=10,\n",
    "                       epochs=200, callbacks=callbacks_list, verbose=1,\n",
    "                       validation_split=0.2)"
   ]
  },
  {
   "cell_type": "markdown",
   "metadata": {},
   "source": [
    "## Evaluation of the model"
   ]
  },
  {
   "cell_type": "code",
   "execution_count": 171,
   "metadata": {},
   "outputs": [
    {
     "name": "stdout",
     "output_type": "stream",
     "text": [
      "Loss and MAE on Training Data\n",
      "800/800 [==============================] - 0s 22us/step\n",
      "Loss:  0.32519410997629167 and MAE: 0.3820248544216156\n",
      "**************************************************\n",
      "Loss and MAE on Test Data\n",
      "200/200 [==============================] - 0s 30us/step\n",
      "Loss:  0.7878346824645996 and MAE: 0.6876366138458252\n"
     ]
    }
   ],
   "source": [
    "print(\"Loss and MAE on Training Data\")\n",
    "eval_model=model.evaluate(X_train_scaled, Y_train)\n",
    "print('Loss: ',eval_model[0], 'and', 'MAE:',eval_model[1])\n",
    "print('*' * 50)\n",
    "print(\"Loss and MAE on Test Data\")\n",
    "result=model.evaluate(X_test_scaled, Y_test)\n",
    "print('Loss: ',result[0], 'and', 'MAE:',result[1])"
   ]
  },
  {
   "cell_type": "markdown",
   "metadata": {},
   "source": [
    "## Visualization of loss for training and test data"
   ]
  },
  {
   "cell_type": "code",
   "execution_count": 172,
   "metadata": {},
   "outputs": [
    {
     "data": {
      "image/png": "[encoded data removed]",
      "text/plain": [
       "<Figure size 432x288 with 1 Axes>"
      ]
     },
     "metadata": {
      "needs_background": "light"
     },
     "output_type": "display_data"
    }
   ],
   "source": [
    "plt.plot(model_info.history['loss'])\n",
    "plt.plot(model_info.history['val_loss'])\n",
    "plt.title('model loss')\n",
    "plt.ylabel('loss')\n",
    "plt.xlabel('epoch')\n",
    "plt.legend(['train', 'validation'], loc='upper left')\n",
    "plt.show()"
   ]
  },
  {
   "cell_type": "markdown",
   "metadata": {},
   "source": [
    "## Visualization of mse for training and test data"
   ]
  },
  {
   "cell_type": "code",
   "execution_count": 175,
   "metadata": {},
   "outputs": [
    {
     "data": {
      "image/png": "[encoded data removed]",
      "text/plain": [
       "<Figure size 432x288 with 1 Axes>"
      ]
     },
     "metadata": {
      "needs_background": "light"
     },
     "output_type": "display_data"
    }
   ],
   "source": [
    "plt.plot(model_info.history['mse'])\n",
    "plt.plot(model_info.history['val_mse'])\n",
    "plt.title('model mse')\n",
    "plt.ylabel('mse')\n",
    "plt.xlabel('epoch')\n",
    "plt.legend(['train', 'validation'], loc='lower right')\n",
    "plt.show()"
   ]
  },
  {
   "cell_type": "markdown",
   "metadata": {},
   "source": [
    "## Visualization of mae for training and test data"
   ]
  },
  {
   "cell_type": "code",
   "execution_count": 176,
   "metadata": {},
   "outputs": [
    {
     "data": {
      "image/png": "[encoded data removed]",
      "text/plain": [
       "<Figure size 432x288 with 1 Axes>"
      ]
     },
     "metadata": {
      "needs_background": "light"
     },
     "output_type": "display_data"
    }
   ],
   "source": [
    "plt.plot(model_info.history['mae'])\n",
    "plt.plot(model_info.history['val_mae'])\n",
    "plt.title('model mae')\n",
    "plt.ylabel('mae')\n",
    "plt.xlabel('epoch')\n",
    "plt.legend(['train', 'validation'], loc='lower right')\n",
    "plt.show()"
   ]
  },
  {
   "cell_type": "markdown",
   "metadata": {},
   "source": [
    "# Model Evaluation of  spending data "
   ]
  },
  {
   "cell_type": "code",
   "execution_count": 384,
   "metadata": {},
   "outputs": [
    {
     "data": {
      "text/html": [
       "<div>\n",
       "<style scoped>\n",
       "    .dataframe tbody tr th:only-of-type {\n",
       "        vertical-align: middle;\n",
       "    }\n",
       "\n",
       "    .dataframe tbody tr th {\n",
       "        vertical-align: top;\n",
       "    }\n",
       "\n",
       "    .dataframe thead th {\n",
       "        text-align: right;\n",
       "    }\n",
       "</style>\n",
       "<table border=\"1\" class=\"dataframe\">\n",
       "  <thead>\n",
       "    <tr style=\"text-align: right;\">\n",
       "      <th></th>\n",
       "      <th>RMSE(Full Data)</th>\n",
       "      <th>RMSE(Purchase = 1)</th>\n",
       "    </tr>\n",
       "  </thead>\n",
       "  <tbody>\n",
       "    <tr>\n",
       "      <th>Linear Regression</th>\n",
       "      <td>1.96</td>\n",
       "      <td>0.80</td>\n",
       "    </tr>\n",
       "    <tr>\n",
       "      <th>KNN</th>\n",
       "      <td>2.26</td>\n",
       "      <td>0.89</td>\n",
       "    </tr>\n",
       "    <tr>\n",
       "      <th>Regression Tree</th>\n",
       "      <td>1.83</td>\n",
       "      <td>0.84</td>\n",
       "    </tr>\n",
       "    <tr>\n",
       "      <th>SVR</th>\n",
       "      <td>1.88</td>\n",
       "      <td>0.80</td>\n",
       "    </tr>\n",
       "    <tr>\n",
       "      <th>Lasso</th>\n",
       "      <td>2.28</td>\n",
       "      <td>0.85</td>\n",
       "    </tr>\n",
       "    <tr>\n",
       "      <th>Ridge</th>\n",
       "      <td>1.96</td>\n",
       "      <td>0.80</td>\n",
       "    </tr>\n",
       "    <tr>\n",
       "      <th>Random Forest</th>\n",
       "      <td>1.70</td>\n",
       "      <td>0.80</td>\n",
       "    </tr>\n",
       "    <tr>\n",
       "      <th>Ada Boosting</th>\n",
       "      <td>1.95</td>\n",
       "      <td>0.82</td>\n",
       "    </tr>\n",
       "    <tr>\n",
       "      <th>Gradient Boosting</th>\n",
       "      <td>1.74</td>\n",
       "      <td>0.85</td>\n",
       "    </tr>\n",
       "    <tr>\n",
       "      <th>XGBoost</th>\n",
       "      <td>1.70</td>\n",
       "      <td>0.80</td>\n",
       "    </tr>\n",
       "    <tr>\n",
       "      <th>Neural Network</th>\n",
       "      <td>1.98</td>\n",
       "      <td>0.64</td>\n",
       "    </tr>\n",
       "    <tr>\n",
       "      <th>Deep Neural Network</th>\n",
       "      <td>1.23</td>\n",
       "      <td>0.68</td>\n",
       "    </tr>\n",
       "  </tbody>\n",
       "</table>\n",
       "</div>"
      ],
      "text/plain": [
       "                     RMSE(Full Data)  RMSE(Purchase = 1)\n",
       "Linear Regression               1.96                0.80\n",
       "KNN                             2.26                0.89\n",
       "Regression Tree                 1.83                0.84\n",
       "SVR                             1.88                0.80\n",
       "Lasso                           2.28                0.85\n",
       "Ridge                           1.96                0.80\n",
       "Random Forest                   1.70                0.80\n",
       "Ada Boosting                    1.95                0.82\n",
       "Gradient Boosting               1.74                0.85\n",
       "XGBoost                         1.70                0.80\n",
       "Neural Network                  1.98                0.64\n",
       "Deep Neural Network             1.23                0.68"
      ]
     },
     "execution_count": 384,
     "metadata": {},
     "output_type": "execute_result"
    }
   ],
   "source": [
    "df1 = pd.DataFrame({\"RMSE(Full Data)\":[1.96,2.26,1.83,1.88,2.28,1.96,1.70,1.95,1.74,1.70,1.98,1.23],\n",
    "                    \"RMSE(Purchase = 1)\":[0.80,0.89,0.84,0.80,0.85,0.80,0.80,0.82,0.85,0.80,0.64,0.68]})\n",
    "df1.index = ['Linear Regression', 'KNN', 'Regression Tree', 'SVR', 'Lasso', 'Ridge', 'Random Forest', 'Ada Boosting','Gradient Boosting', 'XGBoost','Neural Network', 'Deep Neural Network']\n",
    "df1"
   ]
  },
  {
   "cell_type": "markdown",
   "metadata": {},
   "source": [
    "### Hyperparameter tuning \n",
    "For all models I have used GridsearchCV to find the optimum hyperparameters. Finaly I have used these hyperparameters in building the final models. I have also used cross validation to measure the mean performance for all models. \n",
    "### Normalization\n",
    "For KNN and SVC I have used normalized data using MinMaxScaler. For all other models I have used non-scaled data. I followed the best practice of normalizing data for the models which required scaled data.\n",
    "\n",
    "I have used the full data and build all models required. The best model for full data came out to be Deep Neural Network as it gave the minimum RMSE. The above table shows the performance comparision for all models. \n",
    "\n",
    "I have used the subset of data i.e. making purchase = 1 and build all models required. The best model came out to be Neural Network as it gave the minimum RMSE. The above table shows the performance comparision for all models.\n",
    "\n",
    "\n",
    "I found the data to be highly skewed hence I figured that a log transformation would normalized the data properly. Further, there are a lot of USD 0.1 and USD 0.2 for non-purchase data. For this reason I think the performance of models on subset data came out to be better as compared to models build on full data.\n"
   ]
  }
 ],
 "metadata": {
  "kernelspec": {
   "display_name": "Python 3",
   "language": "python",
   "name": "python3"
  },
  "language_info": {
   "codemirror_mode": {
    "name": "ipython",
    "version": 3
   },
   "file_extension": ".py",
   "mimetype": "text/x-python",
   "name": "python",
   "nbconvert_exporter": "python",
   "pygments_lexer": "ipython3",
   "version": "3.7.4"
  }
 },
 "nbformat": 4,
 "nbformat_minor": 2
}
